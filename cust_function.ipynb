{
 "cells": [
  {
   "cell_type": "code",
   "execution_count": 1,
   "metadata": {},
   "outputs": [],
   "source": [
    "import pandas as pd\n",
    "import matplotlib.pyplot as plt\n",
    "import seaborn as sns\n",
    "from statsmodels.graphics.regressionplots import influence_plot\n",
    "import statsmodels.formula.api as smf\n",
    "import numpy as np\n",
    "import statsmodels.api as sm"
   ]
  },
  {
   "cell_type": "code",
   "execution_count": 2,
   "metadata": {},
   "outputs": [],
   "source": [
    "\n",
    "## this function remove outlier for both the whiskers\n",
    "def outlier_price(corolla):\n",
    "    column=plt.boxplot(corolla[\"Price\"])\n",
    "    [item.get_ydata()for item in column[\"fliers\"]]\n",
    "    whisker=[item.get_ydata()[1] for item in column[\"whiskers\"]]\n",
    "    c_max=corolla[\"Price\"].max()\n",
    "    c_min=corolla[\"Price\"].min()\n",
    "    while whisker[1] < c_max or whisker[0] > c_min:\n",
    "        corolla1=corolla.loc[(corolla[\"Price\"]<=whisker[1]) & (corolla[\"Price\"]>=whisker[0])]\n",
    "        column=plt.boxplot(corolla[\"Price\"])\n",
    "        [item.get_ydata()for item in column[\"fliers\"]]\n",
    "        c_max=corolla1[\"Price\"].max()\n",
    "        c_min=corolla1[\"Price\"].max()\n",
    "        column=plt.boxplot(corolla1[\"Price\"])\n",
    "        [item.get_ydata()for item in column[\"fliers\"]]\n",
    "        whisker=[item.get_ydata()[1] for item in column[\"whiskers\"]]\n",
    "        corolla=corolla1\n",
    "    else:\n",
    "        return corolla\n",
    "\n",
    "    "
   ]
  },
  {
   "cell_type": "code",
   "execution_count": 3,
   "metadata": {},
   "outputs": [],
   "source": [
    "## this function remove outlier for both the whiskers\n",
    "def outlier_age(corolla):\n",
    "    column=plt.boxplot(corolla[\"Age_08_04\"])\n",
    "    [item.get_ydata()for item in column[\"fliers\"]]\n",
    "    whisker=[item.get_ydata()[1] for item in column[\"whiskers\"]]\n",
    "    c_max=corolla[\"Age_08_04\"].max()\n",
    "    c_min=corolla[\"Age_08_04\"].min()\n",
    "    while whisker[1] < c_max or whisker[0] > c_min:\n",
    "        corolla1=corolla.loc[(corolla[\"Age_08_04\"]<=whisker[1]) & (corolla[\"Age_08_04\"]>=whisker[0])]\n",
    "        column=plt.boxplot(corolla[\"Age_08_04\"])\n",
    "        [item.get_ydata()for item in column[\"fliers\"]]\n",
    "        c_max=corolla1[\"Age_08_04\"].max()\n",
    "        c_min=corolla1[\"Age_08_04\"].max()\n",
    "        column=plt.boxplot(corolla1[\"Age_08_04\"])\n",
    "        [item.get_ydata()for item in column[\"fliers\"]]\n",
    "        whisker=[item.get_ydata()[1] for item in column[\"whiskers\"]]\n",
    "        corolla=corolla1\n",
    "    else:\n",
    "        return corolla"
   ]
  },
  {
   "cell_type": "code",
   "execution_count": 4,
   "metadata": {},
   "outputs": [],
   "source": [
    "\n",
    "## this function remove outlier for both the whiskers\n",
    "def outlier_km(corolla):\n",
    "    column=plt.boxplot(corolla[\"KM\"])\n",
    "    [item.get_ydata()for item in column[\"fliers\"]]\n",
    "    whisker=[item.get_ydata()[1] for item in column[\"whiskers\"]]\n",
    "    c_max=corolla[\"KM\"].max()\n",
    "    c_min=corolla[\"KM\"].min()\n",
    "    while whisker[1] < c_max or whisker[0] > c_min:\n",
    "        corolla1=corolla.loc[(corolla[\"KM\"]<=whisker[1]) & (corolla[\"KM\"]>=whisker[0])]\n",
    "        column=plt.boxplot(corolla[\"KM\"])\n",
    "        [item.get_ydata()for item in column[\"fliers\"]]\n",
    "        c_max=corolla1[\"KM\"].max()\n",
    "        c_min=corolla1[\"KM\"].max()\n",
    "        column=plt.boxplot(corolla1[\"KM\"])\n",
    "        [item.get_ydata()for item in column[\"fliers\"]]\n",
    "        whisker=[item.get_ydata()[1] for item in column[\"whiskers\"]]\n",
    "        corolla=corolla1\n",
    "    else:\n",
    "        return corolla\n",
    "\n",
    "    "
   ]
  },
  {
   "cell_type": "code",
   "execution_count": 5,
   "metadata": {},
   "outputs": [],
   "source": [
    "\n",
    "## this function remove outlier for both the whiskers\n",
    "def outlier_hp(corolla):\n",
    "    column=plt.boxplot(corolla[\"HP\"])\n",
    "    [item.get_ydata()for item in column[\"fliers\"]]\n",
    "    whisker=[item.get_ydata()[1] for item in column[\"whiskers\"]]\n",
    "    c_max=corolla[\"HP\"].max()\n",
    "    c_min=corolla[\"HP\"].min()\n",
    "    while whisker[1] < c_max or whisker[0] > c_min:\n",
    "        corolla1=corolla.loc[(corolla[\"HP\"]<=whisker[1]) & (corolla[\"HP\"]>=whisker[0])]\n",
    "        column=plt.boxplot(corolla[\"HP\"])\n",
    "        [item.get_ydata()for item in column[\"fliers\"]]\n",
    "        c_max=corolla1[\"HP\"].max()\n",
    "        c_min=corolla1[\"HP\"].max()\n",
    "        column=plt.boxplot(corolla1[\"HP\"])\n",
    "        [item.get_ydata()for item in column[\"fliers\"]]\n",
    "        whisker=[item.get_ydata()[1] for item in column[\"whiskers\"]]\n",
    "        corolla=corolla1\n",
    "    else:\n",
    "        return corolla\n",
    "\n",
    "    "
   ]
  },
  {
   "cell_type": "code",
   "execution_count": 6,
   "metadata": {},
   "outputs": [],
   "source": [
    "\n",
    "## this function remove outlier for both the whiskers\n",
    "def outlier_cc(corolla):\n",
    "    column=plt.boxplot(corolla[\"cc\"])\n",
    "    [item.get_ydata()for item in column[\"fliers\"]]\n",
    "    whisker=[item.get_ydata()[1] for item in column[\"whiskers\"]]\n",
    "    c_max=corolla[\"cc\"].max()\n",
    "    c_min=corolla[\"cc\"].min()\n",
    "    while whisker[1] < c_max or whisker[0] > c_min:\n",
    "        corolla1=corolla.loc[(corolla[\"cc\"]<=whisker[1]) & (corolla[\"cc\"]>=whisker[0])]\n",
    "        column=plt.boxplot(corolla[\"cc\"])\n",
    "        [item.get_ydata()for item in column[\"fliers\"]]\n",
    "        c_max=corolla1[\"cc\"].max()\n",
    "        c_min=corolla1[\"cc\"].max()\n",
    "        column=plt.boxplot(corolla1[\"cc\"])\n",
    "        [item.get_ydata()for item in column[\"fliers\"]]\n",
    "        whisker=[item.get_ydata()[1] for item in column[\"whiskers\"]]\n",
    "        corolla=corolla1\n",
    "    else:\n",
    "        return corolla\n",
    "\n",
    "    "
   ]
  },
  {
   "cell_type": "code",
   "execution_count": 7,
   "metadata": {},
   "outputs": [],
   "source": [
    "\n",
    "## this function remove outlier for both the whiskers\n",
    "def outlier_door(corolla):\n",
    "    column=plt.boxplot(corolla[\"Doors\"])\n",
    "    [item.get_ydata()for item in column[\"fliers\"]]\n",
    "    whisker=[item.get_ydata()[1] for item in column[\"whiskers\"]]\n",
    "    c_max=corolla[\"Doors\"].max()\n",
    "    c_min=corolla[\"Doors\"].min()\n",
    "    while whisker[1] < c_max or whisker[0] > c_min:\n",
    "        corolla1=corolla.loc[(corolla[\"Doors\"]<=whisker[1]) & (corolla[\"Doors\"]>=whisker[0])]\n",
    "        column=plt.boxplot(corolla[\"Doors\"])\n",
    "        [item.get_ydata()for item in column[\"fliers\"]]\n",
    "        c_max=corolla1[\"Doors\"].max()\n",
    "        c_min=corolla1[\"Doors\"].max()\n",
    "        column=plt.boxplot(corolla1[\"Doors\"])\n",
    "        [item.get_ydata()for item in column[\"fliers\"]]\n",
    "        whisker=[item.get_ydata()[1] for item in column[\"whiskers\"]]\n",
    "        corolla=corolla1\n",
    "    else:\n",
    "        return corolla\n",
    "\n",
    "    "
   ]
  },
  {
   "cell_type": "code",
   "execution_count": 8,
   "metadata": {},
   "outputs": [],
   "source": [
    "\n",
    "## this function remove outlier for both the whiskers\n",
    "def outlier_gears(corolla):\n",
    "    column=plt.boxplot(corolla[\"Gears\"])\n",
    "    [item.get_ydata()for item in column[\"fliers\"]]\n",
    "    whisker=[item.get_ydata()[1] for item in column[\"whiskers\"]]\n",
    "    c_max=corolla[\"Gears\"].max()\n",
    "    c_min=corolla[\"Gears\"].min()\n",
    "    while whisker[1] < c_max or whisker[0] > c_min:\n",
    "        corolla1=corolla.loc[(corolla[\"Gears\"]<=whisker[1]) & (corolla[\"Gears\"]>=whisker[0])]\n",
    "        column=plt.boxplot(corolla[\"Gears\"])\n",
    "        [item.get_ydata()for item in column[\"fliers\"]]\n",
    "        c_max=corolla1[\"Gears\"].max()\n",
    "        c_min=corolla1[\"Gears\"].max()\n",
    "        column=plt.boxplot(corolla1[\"Gears\"])\n",
    "        [item.get_ydata()for item in column[\"fliers\"]]\n",
    "        whisker=[item.get_ydata()[1] for item in column[\"whiskers\"]]\n",
    "        corolla=corolla1\n",
    "    else:\n",
    "        return corolla\n",
    "\n",
    "    "
   ]
  },
  {
   "cell_type": "code",
   "execution_count": 9,
   "metadata": {},
   "outputs": [],
   "source": [
    "\n",
    "## this function remove outlier for both the whiskers\n",
    "def outlier_tax(corolla):\n",
    "    column=plt.boxplot(corolla[\"Quarterly_Tax\"])\n",
    "    [item.get_ydata()for item in column[\"fliers\"]]\n",
    "    whisker=[item.get_ydata()[1] for item in column[\"whiskers\"]]\n",
    "    c_max=corolla[\"Quarterly_Tax\"].max()\n",
    "    c_min=corolla[\"Quarterly_Tax\"].min()\n",
    "    while whisker[1] < c_max or whisker[0] > c_min:\n",
    "        corolla1=corolla.loc[(corolla[\"Quarterly_Tax\"]<=whisker[1]) & (corolla[\"Quarterly_Tax\"]>=whisker[0])]\n",
    "        column=plt.boxplot(corolla[\"Quarterly_Tax\"])\n",
    "        [item.get_ydata()for item in column[\"fliers\"]]\n",
    "        c_max=corolla1[\"Quarterly_Tax\"].max()\n",
    "        c_min=corolla1[\"Quarterly_Tax\"].max()\n",
    "        column=plt.boxplot(corolla1[\"Quarterly_Tax\"])\n",
    "        [item.get_ydata()for item in column[\"fliers\"]]\n",
    "        whisker=[item.get_ydata()[1] for item in column[\"whiskers\"]]\n",
    "        corolla=corolla1\n",
    "    else:\n",
    "        return corolla\n",
    "\n",
    "    "
   ]
  },
  {
   "cell_type": "code",
   "execution_count": 10,
   "metadata": {},
   "outputs": [],
   "source": [
    "\n",
    "## this function remove outlier for both the whiskers\n",
    "def outlier_weight(corolla):\n",
    "    column=plt.boxplot(corolla[\"Weight\"])\n",
    "    [item.get_ydata()for item in column[\"fliers\"]]\n",
    "    whisker=[item.get_ydata()[1] for item in column[\"whiskers\"]]\n",
    "    c_max=corolla[\"Weight\"].max()\n",
    "    c_min=corolla[\"Weight\"].min()\n",
    "    while whisker[1] < c_max or whisker[0] > c_min:\n",
    "        corolla1=corolla.loc[(corolla[\"Weight\"]<=whisker[1]) & (corolla[\"Weight\"]>=whisker[0])]\n",
    "        column=plt.boxplot(corolla[\"Weight\"])\n",
    "        [item.get_ydata()for item in column[\"fliers\"]]\n",
    "        c_max=corolla1[\"Weight\"].max()\n",
    "        c_min=corolla1[\"Weight\"].max()\n",
    "        column=plt.boxplot(corolla1[\"Weight\"])\n",
    "        [item.get_ydata()for item in column[\"fliers\"]]\n",
    "        whisker=[item.get_ydata()[1] for item in column[\"whiskers\"]]\n",
    "        corolla=corolla1\n",
    "    else:\n",
    "        return corolla"
   ]
  },
  {
   "cell_type": "code",
   "execution_count": 11,
   "metadata": {},
   "outputs": [
    {
     "data": {
      "text/plain": [
       "'def outlier_Price(corolla):\\n    km_column=plt.boxplot(corolla[\"Price\"])\\n    [item.get_ydata()for item in km_column[\"fliers\"]]\\n    whisker=[item.get_ydata()[1] for item in km_column[\\'whiskers\\']][1]\\n    while whisker<corolla[\"Price\"].max():\\n        corolla=corolla.loc[corolla[\"Price\"]<=whisker]\\n        km_column=plt.boxplot(corolla[\"Price\"])\\n        [item.get_ydata()for item in km_column[\"fliers\"]]\\n        whisker=[item.get_ydata()[1] for item in km_column[\\'whiskers\\']][1]\\n    return corolla'"
      ]
     },
     "execution_count": 11,
     "metadata": {},
     "output_type": "execute_result"
    }
   ],
   "source": [
    "\"\"\"def outlier_Price(corolla):\n",
    "    km_column=plt.boxplot(corolla[\"Price\"])\n",
    "    [item.get_ydata()for item in km_column[\"fliers\"]]\n",
    "    whisker=[item.get_ydata()[1] for item in km_column['whiskers']][1]\n",
    "    while whisker<corolla[\"Price\"].max():\n",
    "        corolla=corolla.loc[corolla[\"Price\"]<=whisker]\n",
    "        km_column=plt.boxplot(corolla[\"Price\"])\n",
    "        [item.get_ydata()for item in km_column[\"fliers\"]]\n",
    "        whisker=[item.get_ydata()[1] for item in km_column['whiskers']][1]\n",
    "    return corolla\"\"\""
   ]
  },
  {
   "cell_type": "code",
   "execution_count": 12,
   "metadata": {},
   "outputs": [],
   "source": [
    "\n",
    "toyota=pd.read_csv(\"ToyotaCorolla.csv\", encoding=\"unicode_escape\")\n",
    "corolla=toyota[[\"Price\",\"Age_08_04\",\"KM\",\"HP\",\"cc\",\"Doors\",\"Gears\",\"Quarterly_Tax\",\"Weight\"]]"
   ]
  },
  {
   "cell_type": "code",
   "execution_count": 13,
   "metadata": {},
   "outputs": [
    {
     "data": {
      "text/plain": [
       "(1436, 9)"
      ]
     },
     "execution_count": 13,
     "metadata": {},
     "output_type": "execute_result"
    }
   ],
   "source": [
    "corolla.shape"
   ]
  },
  {
   "cell_type": "code",
   "execution_count": 14,
   "metadata": {},
   "outputs": [
    {
     "data": {
      "text/html": [
       "<div>\n",
       "<style scoped>\n",
       "    .dataframe tbody tr th:only-of-type {\n",
       "        vertical-align: middle;\n",
       "    }\n",
       "\n",
       "    .dataframe tbody tr th {\n",
       "        vertical-align: top;\n",
       "    }\n",
       "\n",
       "    .dataframe thead th {\n",
       "        text-align: right;\n",
       "    }\n",
       "</style>\n",
       "<table border=\"1\" class=\"dataframe\">\n",
       "  <thead>\n",
       "    <tr style=\"text-align: right;\">\n",
       "      <th></th>\n",
       "      <th>Price</th>\n",
       "      <th>Age_08_04</th>\n",
       "      <th>KM</th>\n",
       "      <th>HP</th>\n",
       "      <th>cc</th>\n",
       "      <th>Doors</th>\n",
       "      <th>Gears</th>\n",
       "      <th>Quarterly_Tax</th>\n",
       "      <th>Weight</th>\n",
       "    </tr>\n",
       "  </thead>\n",
       "  <tbody>\n",
       "    <tr>\n",
       "      <th>0</th>\n",
       "      <td>13500</td>\n",
       "      <td>23</td>\n",
       "      <td>46986</td>\n",
       "      <td>90</td>\n",
       "      <td>2000</td>\n",
       "      <td>3</td>\n",
       "      <td>5</td>\n",
       "      <td>210</td>\n",
       "      <td>1165</td>\n",
       "    </tr>\n",
       "    <tr>\n",
       "      <th>1</th>\n",
       "      <td>13750</td>\n",
       "      <td>23</td>\n",
       "      <td>72937</td>\n",
       "      <td>90</td>\n",
       "      <td>2000</td>\n",
       "      <td>3</td>\n",
       "      <td>5</td>\n",
       "      <td>210</td>\n",
       "      <td>1165</td>\n",
       "    </tr>\n",
       "  </tbody>\n",
       "</table>\n",
       "</div>"
      ],
      "text/plain": [
       "   Price  Age_08_04     KM  HP    cc  Doors  Gears  Quarterly_Tax  Weight\n",
       "0  13500         23  46986  90  2000      3      5            210    1165\n",
       "1  13750         23  72937  90  2000      3      5            210    1165"
      ]
     },
     "execution_count": 14,
     "metadata": {},
     "output_type": "execute_result"
    }
   ],
   "source": [
    "corolla.head(2)"
   ]
  },
  {
   "cell_type": "code",
   "execution_count": 15,
   "metadata": {},
   "outputs": [
    {
     "data": {
      "text/plain": [
       "32500"
      ]
     },
     "execution_count": 15,
     "metadata": {},
     "output_type": "execute_result"
    }
   ],
   "source": [
    "corolla[\"Price\"].max()"
   ]
  },
  {
   "cell_type": "code",
   "execution_count": 16,
   "metadata": {},
   "outputs": [
    {
     "data": {
      "image/png": "[encoded data removed]",
      "text/plain": [
       "<Figure size 432x288 with 1 Axes>"
      ]
     },
     "metadata": {
      "needs_background": "light"
     },
     "output_type": "display_data"
    }
   ],
   "source": [
    "corolla=outlier_price(corolla)"
   ]
  },
  {
   "cell_type": "code",
   "execution_count": 17,
   "metadata": {},
   "outputs": [
    {
     "data": {
      "text/plain": [
       "{'whiskers': [<matplotlib.lines.Line2D at 0x249a35e3be0>,\n",
       "  <matplotlib.lines.Line2D at 0x249a35e3f70>,\n",
       "  <matplotlib.lines.Line2D at 0x249a3601550>,\n",
       "  <matplotlib.lines.Line2D at 0x249a36018e0>,\n",
       "  <matplotlib.lines.Line2D at 0x249a360be80>,\n",
       "  <matplotlib.lines.Line2D at 0x249a3618250>,\n",
       "  <matplotlib.lines.Line2D at 0x249a36247f0>,\n",
       "  <matplotlib.lines.Line2D at 0x249a3624b80>,\n",
       "  <matplotlib.lines.Line2D at 0x249a363b190>,\n",
       "  <matplotlib.lines.Line2D at 0x249a363b520>,\n",
       "  <matplotlib.lines.Line2D at 0x249a3647ac0>,\n",
       "  <matplotlib.lines.Line2D at 0x249a3647e50>,\n",
       "  <matplotlib.lines.Line2D at 0x249a365f430>,\n",
       "  <matplotlib.lines.Line2D at 0x249a365f7c0>,\n",
       "  <matplotlib.lines.Line2D at 0x249a366cd60>,\n",
       "  <matplotlib.lines.Line2D at 0x249a3677130>,\n",
       "  <matplotlib.lines.Line2D at 0x249a36836d0>,\n",
       "  <matplotlib.lines.Line2D at 0x249a3683a60>],\n",
       " 'caps': [<matplotlib.lines.Line2D at 0x249a35f4340>,\n",
       "  <matplotlib.lines.Line2D at 0x249a35f46d0>,\n",
       "  <matplotlib.lines.Line2D at 0x249a3601c70>,\n",
       "  <matplotlib.lines.Line2D at 0x249a360b040>,\n",
       "  <matplotlib.lines.Line2D at 0x249a36185e0>,\n",
       "  <matplotlib.lines.Line2D at 0x249a3618970>,\n",
       "  <matplotlib.lines.Line2D at 0x249a3624f10>,\n",
       "  <matplotlib.lines.Line2D at 0x249a36302e0>,\n",
       "  <matplotlib.lines.Line2D at 0x249a363b8b0>,\n",
       "  <matplotlib.lines.Line2D at 0x249a363bc40>,\n",
       "  <matplotlib.lines.Line2D at 0x249a3654220>,\n",
       "  <matplotlib.lines.Line2D at 0x249a36545b0>,\n",
       "  <matplotlib.lines.Line2D at 0x249a365fb50>,\n",
       "  <matplotlib.lines.Line2D at 0x249a365fee0>,\n",
       "  <matplotlib.lines.Line2D at 0x249a36774c0>,\n",
       "  <matplotlib.lines.Line2D at 0x249a3677850>,\n",
       "  <matplotlib.lines.Line2D at 0x249a3683df0>,\n",
       "  <matplotlib.lines.Line2D at 0x249a368f1c0>],\n",
       " 'boxes': [<matplotlib.lines.Line2D at 0x249a35e3850>,\n",
       "  <matplotlib.lines.Line2D at 0x249a36011c0>,\n",
       "  <matplotlib.lines.Line2D at 0x249a360baf0>,\n",
       "  <matplotlib.lines.Line2D at 0x249a3624460>,\n",
       "  <matplotlib.lines.Line2D at 0x249a3630d90>,\n",
       "  <matplotlib.lines.Line2D at 0x249a3647730>,\n",
       "  <matplotlib.lines.Line2D at 0x249a365f0a0>,\n",
       "  <matplotlib.lines.Line2D at 0x249a366c9d0>,\n",
       "  <matplotlib.lines.Line2D at 0x249a3683340>],\n",
       " 'medians': [<matplotlib.lines.Line2D at 0x249a35f4a60>,\n",
       "  <matplotlib.lines.Line2D at 0x249a360b3d0>,\n",
       "  <matplotlib.lines.Line2D at 0x249a3618d00>,\n",
       "  <matplotlib.lines.Line2D at 0x249a3630670>,\n",
       "  <matplotlib.lines.Line2D at 0x249a363bfd0>,\n",
       "  <matplotlib.lines.Line2D at 0x249a3654940>,\n",
       "  <matplotlib.lines.Line2D at 0x249a366c2b0>,\n",
       "  <matplotlib.lines.Line2D at 0x249a3677be0>,\n",
       "  <matplotlib.lines.Line2D at 0x249a368f550>],\n",
       " 'fliers': [<matplotlib.lines.Line2D at 0x249a35f4df0>,\n",
       "  <matplotlib.lines.Line2D at 0x249a360b760>,\n",
       "  <matplotlib.lines.Line2D at 0x249a36240d0>,\n",
       "  <matplotlib.lines.Line2D at 0x249a3630a00>,\n",
       "  <matplotlib.lines.Line2D at 0x249a36473a0>,\n",
       "  <matplotlib.lines.Line2D at 0x249a3654cd0>,\n",
       "  <matplotlib.lines.Line2D at 0x249a366c640>,\n",
       "  <matplotlib.lines.Line2D at 0x249a3677f70>,\n",
       "  <matplotlib.lines.Line2D at 0x249a368f8e0>],\n",
       " 'means': []}"
      ]
     },
     "execution_count": 17,
     "metadata": {},
     "output_type": "execute_result"
    },
    {
     "data": {
      "image/png": "[encoded data removed]",
      "text/plain": [
       "<Figure size 432x288 with 1 Axes>"
      ]
     },
     "metadata": {
      "needs_background": "light"
     },
     "output_type": "display_data"
    }
   ],
   "source": [
    "(plt.boxplot(corolla))"
   ]
  },
  {
   "cell_type": "code",
   "execution_count": 18,
   "metadata": {},
   "outputs": [
    {
     "data": {
      "image/png": "[encoded data removed]",
      "text/plain": [
       "<Figure size 432x288 with 1 Axes>"
      ]
     },
     "metadata": {
      "needs_background": "light"
     },
     "output_type": "display_data"
    }
   ],
   "source": [
    "corolla=outlier_km(corolla)"
   ]
  },
  {
   "cell_type": "code",
   "execution_count": 19,
   "metadata": {},
   "outputs": [
    {
     "data": {
      "text/plain": [
       "{'whiskers': [<matplotlib.lines.Line2D at 0x249a3756400>,\n",
       "  <matplotlib.lines.Line2D at 0x249a3756790>,\n",
       "  <matplotlib.lines.Line2D at 0x249a3761d30>,\n",
       "  <matplotlib.lines.Line2D at 0x249a376d100>,\n",
       "  <matplotlib.lines.Line2D at 0x249a37796a0>,\n",
       "  <matplotlib.lines.Line2D at 0x249a3779a30>,\n",
       "  <matplotlib.lines.Line2D at 0x249a3785fd0>,\n",
       "  <matplotlib.lines.Line2D at 0x249a37903a0>,\n",
       "  <matplotlib.lines.Line2D at 0x249a379b940>,\n",
       "  <matplotlib.lines.Line2D at 0x249a379bcd0>,\n",
       "  <matplotlib.lines.Line2D at 0x249a37b42e0>,\n",
       "  <matplotlib.lines.Line2D at 0x249a37b4670>,\n",
       "  <matplotlib.lines.Line2D at 0x249a37bec10>,\n",
       "  <matplotlib.lines.Line2D at 0x249a37befa0>,\n",
       "  <matplotlib.lines.Line2D at 0x249a37d7580>,\n",
       "  <matplotlib.lines.Line2D at 0x249a37d7940>,\n",
       "  <matplotlib.lines.Line2D at 0x249a37e4ee0>,\n",
       "  <matplotlib.lines.Line2D at 0x249a37ef2b0>],\n",
       " 'caps': [<matplotlib.lines.Line2D at 0x249a3756b20>,\n",
       "  <matplotlib.lines.Line2D at 0x249a3756eb0>,\n",
       "  <matplotlib.lines.Line2D at 0x249a376d490>,\n",
       "  <matplotlib.lines.Line2D at 0x249a376d820>,\n",
       "  <matplotlib.lines.Line2D at 0x249a3779dc0>,\n",
       "  <matplotlib.lines.Line2D at 0x249a3785190>,\n",
       "  <matplotlib.lines.Line2D at 0x249a3790730>,\n",
       "  <matplotlib.lines.Line2D at 0x249a3790ac0>,\n",
       "  <matplotlib.lines.Line2D at 0x249a37a80d0>,\n",
       "  <matplotlib.lines.Line2D at 0x249a37a8460>,\n",
       "  <matplotlib.lines.Line2D at 0x249a37b4a00>,\n",
       "  <matplotlib.lines.Line2D at 0x249a37b4d90>,\n",
       "  <matplotlib.lines.Line2D at 0x249a37cc370>,\n",
       "  <matplotlib.lines.Line2D at 0x249a37cc700>,\n",
       "  <matplotlib.lines.Line2D at 0x249a37d7cd0>,\n",
       "  <matplotlib.lines.Line2D at 0x249a37e40a0>,\n",
       "  <matplotlib.lines.Line2D at 0x249a37ef640>,\n",
       "  <matplotlib.lines.Line2D at 0x249a37ef9d0>],\n",
       " 'boxes': [<matplotlib.lines.Line2D at 0x249a3756070>,\n",
       "  <matplotlib.lines.Line2D at 0x249a37619a0>,\n",
       "  <matplotlib.lines.Line2D at 0x249a3779310>,\n",
       "  <matplotlib.lines.Line2D at 0x249a3785c40>,\n",
       "  <matplotlib.lines.Line2D at 0x249a379b5b0>,\n",
       "  <matplotlib.lines.Line2D at 0x249a37a8f10>,\n",
       "  <matplotlib.lines.Line2D at 0x249a37be880>,\n",
       "  <matplotlib.lines.Line2D at 0x249a37d71f0>,\n",
       "  <matplotlib.lines.Line2D at 0x249a37e4b50>],\n",
       " 'medians': [<matplotlib.lines.Line2D at 0x249a3761280>,\n",
       "  <matplotlib.lines.Line2D at 0x249a376dbb0>,\n",
       "  <matplotlib.lines.Line2D at 0x249a3785520>,\n",
       "  <matplotlib.lines.Line2D at 0x249a3790e50>,\n",
       "  <matplotlib.lines.Line2D at 0x249a37a87f0>,\n",
       "  <matplotlib.lines.Line2D at 0x249a37be160>,\n",
       "  <matplotlib.lines.Line2D at 0x249a37cca90>,\n",
       "  <matplotlib.lines.Line2D at 0x249a37e4430>,\n",
       "  <matplotlib.lines.Line2D at 0x249a37efd60>],\n",
       " 'fliers': [<matplotlib.lines.Line2D at 0x249a3761610>,\n",
       "  <matplotlib.lines.Line2D at 0x249a376df40>,\n",
       "  <matplotlib.lines.Line2D at 0x249a37858b0>,\n",
       "  <matplotlib.lines.Line2D at 0x249a379b220>,\n",
       "  <matplotlib.lines.Line2D at 0x249a37a8b80>,\n",
       "  <matplotlib.lines.Line2D at 0x249a37be4f0>,\n",
       "  <matplotlib.lines.Line2D at 0x249a37cce20>,\n",
       "  <matplotlib.lines.Line2D at 0x249a37e47c0>,\n",
       "  <matplotlib.lines.Line2D at 0x249a37fb130>],\n",
       " 'means': []}"
      ]
     },
     "execution_count": 19,
     "metadata": {},
     "output_type": "execute_result"
    },
    {
     "data": {
      "image/png": "[encoded data removed]",
      "text/plain": [
       "<Figure size 432x288 with 1 Axes>"
      ]
     },
     "metadata": {
      "needs_background": "light"
     },
     "output_type": "display_data"
    }
   ],
   "source": [
    "plt.boxplot(corolla)"
   ]
  },
  {
   "cell_type": "code",
   "execution_count": 20,
   "metadata": {},
   "outputs": [
    {
     "data": {
      "image/png": "[encoded data removed]",
      "text/plain": [
       "<Figure size 432x288 with 1 Axes>"
      ]
     },
     "metadata": {
      "needs_background": "light"
     },
     "output_type": "display_data"
    }
   ],
   "source": [
    "corolla=outlier_price(corolla)"
   ]
  },
  {
   "cell_type": "code",
   "execution_count": 21,
   "metadata": {},
   "outputs": [
    {
     "data": {
      "text/plain": [
       "{'whiskers': [<matplotlib.lines.Line2D at 0x249a3907d60>,\n",
       "  <matplotlib.lines.Line2D at 0x249a3916130>,\n",
       "  <matplotlib.lines.Line2D at 0x249a39236d0>,\n",
       "  <matplotlib.lines.Line2D at 0x249a3923a60>,\n",
       "  <matplotlib.lines.Line2D at 0x249a393a040>,\n",
       "  <matplotlib.lines.Line2D at 0x249a393a3d0>,\n",
       "  <matplotlib.lines.Line2D at 0x249a3944970>,\n",
       "  <matplotlib.lines.Line2D at 0x249a3944d00>,\n",
       "  <matplotlib.lines.Line2D at 0x249a395f2e0>,\n",
       "  <matplotlib.lines.Line2D at 0x249a395f670>,\n",
       "  <matplotlib.lines.Line2D at 0x249a396ac10>,\n",
       "  <matplotlib.lines.Line2D at 0x249a396afa0>,\n",
       "  <matplotlib.lines.Line2D at 0x249a3983580>,\n",
       "  <matplotlib.lines.Line2D at 0x249a3983910>,\n",
       "  <matplotlib.lines.Line2D at 0x249a398deb0>,\n",
       "  <matplotlib.lines.Line2D at 0x249a399a280>,\n",
       "  <matplotlib.lines.Line2D at 0x249a39a4820>,\n",
       "  <matplotlib.lines.Line2D at 0x249a39a4bb0>],\n",
       " 'caps': [<matplotlib.lines.Line2D at 0x249a39164c0>,\n",
       "  <matplotlib.lines.Line2D at 0x249a3916850>,\n",
       "  <matplotlib.lines.Line2D at 0x249a3923df0>,\n",
       "  <matplotlib.lines.Line2D at 0x249a39301c0>,\n",
       "  <matplotlib.lines.Line2D at 0x249a393a760>,\n",
       "  <matplotlib.lines.Line2D at 0x249a393aaf0>,\n",
       "  <matplotlib.lines.Line2D at 0x249a39530d0>,\n",
       "  <matplotlib.lines.Line2D at 0x249a3953460>,\n",
       "  <matplotlib.lines.Line2D at 0x249a395fa00>,\n",
       "  <matplotlib.lines.Line2D at 0x249a395fd90>,\n",
       "  <matplotlib.lines.Line2D at 0x249a3976370>,\n",
       "  <matplotlib.lines.Line2D at 0x249a3976700>,\n",
       "  <matplotlib.lines.Line2D at 0x249a3983ca0>,\n",
       "  <matplotlib.lines.Line2D at 0x249a398d070>,\n",
       "  <matplotlib.lines.Line2D at 0x249a399a610>,\n",
       "  <matplotlib.lines.Line2D at 0x249a399a9a0>,\n",
       "  <matplotlib.lines.Line2D at 0x249a39a4f40>,\n",
       "  <matplotlib.lines.Line2D at 0x249a39b1310>],\n",
       " 'boxes': [<matplotlib.lines.Line2D at 0x249a39079d0>,\n",
       "  <matplotlib.lines.Line2D at 0x249a3923340>,\n",
       "  <matplotlib.lines.Line2D at 0x249a3930c70>,\n",
       "  <matplotlib.lines.Line2D at 0x249a39445e0>,\n",
       "  <matplotlib.lines.Line2D at 0x249a3953f10>,\n",
       "  <matplotlib.lines.Line2D at 0x249a396a880>,\n",
       "  <matplotlib.lines.Line2D at 0x249a39831f0>,\n",
       "  <matplotlib.lines.Line2D at 0x249a398db20>,\n",
       "  <matplotlib.lines.Line2D at 0x249a39a4490>],\n",
       " 'medians': [<matplotlib.lines.Line2D at 0x249a3916be0>,\n",
       "  <matplotlib.lines.Line2D at 0x249a3930550>,\n",
       "  <matplotlib.lines.Line2D at 0x249a393ae80>,\n",
       "  <matplotlib.lines.Line2D at 0x249a39537f0>,\n",
       "  <matplotlib.lines.Line2D at 0x249a396a160>,\n",
       "  <matplotlib.lines.Line2D at 0x249a3976a90>,\n",
       "  <matplotlib.lines.Line2D at 0x249a398d400>,\n",
       "  <matplotlib.lines.Line2D at 0x249a399ad30>,\n",
       "  <matplotlib.lines.Line2D at 0x249a39b16a0>],\n",
       " 'fliers': [<matplotlib.lines.Line2D at 0x249a3916f70>,\n",
       "  <matplotlib.lines.Line2D at 0x249a39308e0>,\n",
       "  <matplotlib.lines.Line2D at 0x249a3944250>,\n",
       "  <matplotlib.lines.Line2D at 0x249a3953b80>,\n",
       "  <matplotlib.lines.Line2D at 0x249a396a4f0>,\n",
       "  <matplotlib.lines.Line2D at 0x249a3976e20>,\n",
       "  <matplotlib.lines.Line2D at 0x249a398d790>,\n",
       "  <matplotlib.lines.Line2D at 0x249a39a4100>,\n",
       "  <matplotlib.lines.Line2D at 0x249a39b1a30>],\n",
       " 'means': []}"
      ]
     },
     "execution_count": 21,
     "metadata": {},
     "output_type": "execute_result"
    },
    {
     "data": {
      "image/png": "[encoded data removed]",
      "text/plain": [
       "<Figure size 432x288 with 1 Axes>"
      ]
     },
     "metadata": {
      "needs_background": "light"
     },
     "output_type": "display_data"
    }
   ],
   "source": [
    "plt.boxplot(corolla)"
   ]
  },
  {
   "cell_type": "code",
   "execution_count": 22,
   "metadata": {},
   "outputs": [
    {
     "data": {
      "image/png": "[encoded data removed]",
      "text/plain": [
       "<Figure size 432x288 with 1 Axes>"
      ]
     },
     "metadata": {
      "needs_background": "light"
     },
     "output_type": "display_data"
    }
   ],
   "source": [
    "corolla=outlier_km(corolla)"
   ]
  },
  {
   "cell_type": "code",
   "execution_count": 23,
   "metadata": {},
   "outputs": [
    {
     "data": {
      "text/plain": [
       "{'whiskers': [<matplotlib.lines.Line2D at 0x249a3ad6400>,\n",
       "  <matplotlib.lines.Line2D at 0x249a3ad6790>,\n",
       "  <matplotlib.lines.Line2D at 0x249a3ae1d60>,\n",
       "  <matplotlib.lines.Line2D at 0x249a3aef130>,\n",
       "  <matplotlib.lines.Line2D at 0x249a3afb6d0>,\n",
       "  <matplotlib.lines.Line2D at 0x249a3afba60>,\n",
       "  <matplotlib.lines.Line2D at 0x249a3b12040>,\n",
       "  <matplotlib.lines.Line2D at 0x249a3b12370>,\n",
       "  <matplotlib.lines.Line2D at 0x249a3b1d910>,\n",
       "  <matplotlib.lines.Line2D at 0x249a3b1dca0>,\n",
       "  <matplotlib.lines.Line2D at 0x249a3b372b0>,\n",
       "  <matplotlib.lines.Line2D at 0x249a3b37640>,\n",
       "  <matplotlib.lines.Line2D at 0x249a3b42be0>,\n",
       "  <matplotlib.lines.Line2D at 0x249a3b42f70>,\n",
       "  <matplotlib.lines.Line2D at 0x249a3b5b550>,\n",
       "  <matplotlib.lines.Line2D at 0x249a3b5b8e0>,\n",
       "  <matplotlib.lines.Line2D at 0x249a3b66e80>,\n",
       "  <matplotlib.lines.Line2D at 0x249a3b71250>],\n",
       " 'caps': [<matplotlib.lines.Line2D at 0x249a3ad6b20>,\n",
       "  <matplotlib.lines.Line2D at 0x249a3ad6eb0>,\n",
       "  <matplotlib.lines.Line2D at 0x249a3aef4c0>,\n",
       "  <matplotlib.lines.Line2D at 0x249a3aef850>,\n",
       "  <matplotlib.lines.Line2D at 0x249a3afbdf0>,\n",
       "  <matplotlib.lines.Line2D at 0x249a3b061c0>,\n",
       "  <matplotlib.lines.Line2D at 0x249a3b12700>,\n",
       "  <matplotlib.lines.Line2D at 0x249a3b12a90>,\n",
       "  <matplotlib.lines.Line2D at 0x249a3b2a0a0>,\n",
       "  <matplotlib.lines.Line2D at 0x249a3b2a430>,\n",
       "  <matplotlib.lines.Line2D at 0x249a3b379d0>,\n",
       "  <matplotlib.lines.Line2D at 0x249a3b37d60>,\n",
       "  <matplotlib.lines.Line2D at 0x249a3b4c340>,\n",
       "  <matplotlib.lines.Line2D at 0x249a3b4c6d0>,\n",
       "  <matplotlib.lines.Line2D at 0x249a3b5bc70>,\n",
       "  <matplotlib.lines.Line2D at 0x249a3b66040>,\n",
       "  <matplotlib.lines.Line2D at 0x249a3b715e0>,\n",
       "  <matplotlib.lines.Line2D at 0x249a3b71970>],\n",
       " 'boxes': [<matplotlib.lines.Line2D at 0x249a3ad6070>,\n",
       "  <matplotlib.lines.Line2D at 0x249a3ae19d0>,\n",
       "  <matplotlib.lines.Line2D at 0x249a3afb340>,\n",
       "  <matplotlib.lines.Line2D at 0x249a3b06c70>,\n",
       "  <matplotlib.lines.Line2D at 0x249a3b1d580>,\n",
       "  <matplotlib.lines.Line2D at 0x249a3b2aee0>,\n",
       "  <matplotlib.lines.Line2D at 0x249a3b42850>,\n",
       "  <matplotlib.lines.Line2D at 0x249a3b5b1c0>,\n",
       "  <matplotlib.lines.Line2D at 0x249a3b66af0>],\n",
       " 'medians': [<matplotlib.lines.Line2D at 0x249a3ae1280>,\n",
       "  <matplotlib.lines.Line2D at 0x249a3aefbe0>,\n",
       "  <matplotlib.lines.Line2D at 0x249a3b06550>,\n",
       "  <matplotlib.lines.Line2D at 0x249a3b12e20>,\n",
       "  <matplotlib.lines.Line2D at 0x249a3b2a7c0>,\n",
       "  <matplotlib.lines.Line2D at 0x249a3b42130>,\n",
       "  <matplotlib.lines.Line2D at 0x249a3b4ca60>,\n",
       "  <matplotlib.lines.Line2D at 0x249a3b663d0>,\n",
       "  <matplotlib.lines.Line2D at 0x249a3b71d00>],\n",
       " 'fliers': [<matplotlib.lines.Line2D at 0x249a3ae1610>,\n",
       "  <matplotlib.lines.Line2D at 0x249a3aeff70>,\n",
       "  <matplotlib.lines.Line2D at 0x249a3b068e0>,\n",
       "  <matplotlib.lines.Line2D at 0x249a3b1d1f0>,\n",
       "  <matplotlib.lines.Line2D at 0x249a3b2ab50>,\n",
       "  <matplotlib.lines.Line2D at 0x249a3b424c0>,\n",
       "  <matplotlib.lines.Line2D at 0x249a3b4cdf0>,\n",
       "  <matplotlib.lines.Line2D at 0x249a3b66760>,\n",
       "  <matplotlib.lines.Line2D at 0x249a3b7c0d0>],\n",
       " 'means': []}"
      ]
     },
     "execution_count": 23,
     "metadata": {},
     "output_type": "execute_result"
    },
    {
     "data": {
      "image/png": "[encoded data removed]",
      "text/plain": [
       "<Figure size 432x288 with 1 Axes>"
      ]
     },
     "metadata": {
      "needs_background": "light"
     },
     "output_type": "display_data"
    }
   ],
   "source": [
    "plt.boxplot(corolla)"
   ]
  },
  {
   "cell_type": "code",
   "execution_count": 24,
   "metadata": {},
   "outputs": [
    {
     "data": {
      "text/plain": [
       "(1187, 9)"
      ]
     },
     "execution_count": 24,
     "metadata": {},
     "output_type": "execute_result"
    }
   ],
   "source": [
    "corolla.shape"
   ]
  },
  {
   "cell_type": "code",
   "execution_count": 25,
   "metadata": {},
   "outputs": [
    {
     "data": {
      "text/html": [
       "<div>\n",
       "<style scoped>\n",
       "    .dataframe tbody tr th:only-of-type {\n",
       "        vertical-align: middle;\n",
       "    }\n",
       "\n",
       "    .dataframe tbody tr th {\n",
       "        vertical-align: top;\n",
       "    }\n",
       "\n",
       "    .dataframe thead th {\n",
       "        text-align: right;\n",
       "    }\n",
       "</style>\n",
       "<table border=\"1\" class=\"dataframe\">\n",
       "  <thead>\n",
       "    <tr style=\"text-align: right;\">\n",
       "      <th></th>\n",
       "      <th>Price</th>\n",
       "      <th>Age_08_04</th>\n",
       "      <th>KM</th>\n",
       "      <th>HP</th>\n",
       "      <th>cc</th>\n",
       "      <th>Doors</th>\n",
       "      <th>Gears</th>\n",
       "      <th>Quarterly_Tax</th>\n",
       "      <th>Weight</th>\n",
       "    </tr>\n",
       "  </thead>\n",
       "  <tbody>\n",
       "    <tr>\n",
       "      <th>0</th>\n",
       "      <td>13500</td>\n",
       "      <td>23</td>\n",
       "      <td>46986</td>\n",
       "      <td>90</td>\n",
       "      <td>2000</td>\n",
       "      <td>3</td>\n",
       "      <td>5</td>\n",
       "      <td>210</td>\n",
       "      <td>1165</td>\n",
       "    </tr>\n",
       "    <tr>\n",
       "      <th>1</th>\n",
       "      <td>13750</td>\n",
       "      <td>23</td>\n",
       "      <td>72937</td>\n",
       "      <td>90</td>\n",
       "      <td>2000</td>\n",
       "      <td>3</td>\n",
       "      <td>5</td>\n",
       "      <td>210</td>\n",
       "      <td>1165</td>\n",
       "    </tr>\n",
       "  </tbody>\n",
       "</table>\n",
       "</div>"
      ],
      "text/plain": [
       "   Price  Age_08_04     KM  HP    cc  Doors  Gears  Quarterly_Tax  Weight\n",
       "0  13500         23  46986  90  2000      3      5            210    1165\n",
       "1  13750         23  72937  90  2000      3      5            210    1165"
      ]
     },
     "execution_count": 25,
     "metadata": {},
     "output_type": "execute_result"
    }
   ],
   "source": [
    "corolla.head(2)"
   ]
  },
  {
   "cell_type": "code",
   "execution_count": 26,
   "metadata": {},
   "outputs": [
    {
     "data": {
      "image/png": "[encoded data removed]",
      "text/plain": [
       "<Figure size 432x288 with 1 Axes>"
      ]
     },
     "metadata": {
      "needs_background": "light"
     },
     "output_type": "display_data"
    }
   ],
   "source": [
    "corolla= outlier_age(corolla)"
   ]
  },
  {
   "cell_type": "code",
   "execution_count": 27,
   "metadata": {},
   "outputs": [
    {
     "data": {
      "text/plain": [
       "{'whiskers': [<matplotlib.lines.Line2D at 0x249a13c77f0>,\n",
       "  <matplotlib.lines.Line2D at 0x249a36ae040>,\n",
       "  <matplotlib.lines.Line2D at 0x249a14361f0>,\n",
       "  <matplotlib.lines.Line2D at 0x249a1436280>,\n",
       "  <matplotlib.lines.Line2D at 0x249a34fa4c0>,\n",
       "  <matplotlib.lines.Line2D at 0x249a34faaf0>,\n",
       "  <matplotlib.lines.Line2D at 0x249a35199a0>,\n",
       "  <matplotlib.lines.Line2D at 0x249a3509b80>,\n",
       "  <matplotlib.lines.Line2D at 0x249a14aaa60>,\n",
       "  <matplotlib.lines.Line2D at 0x249a14aa160>,\n",
       "  <matplotlib.lines.Line2D at 0x249a148e100>,\n",
       "  <matplotlib.lines.Line2D at 0x249a148e970>,\n",
       "  <matplotlib.lines.Line2D at 0x249a36de850>,\n",
       "  <matplotlib.lines.Line2D at 0x249a34ba1f0>,\n",
       "  <matplotlib.lines.Line2D at 0x249a36b39d0>,\n",
       "  <matplotlib.lines.Line2D at 0x249a36b3a60>,\n",
       "  <matplotlib.lines.Line2D at 0x249a384c940>,\n",
       "  <matplotlib.lines.Line2D at 0x249a384ca30>],\n",
       " 'caps': [<matplotlib.lines.Line2D at 0x249a3520d00>,\n",
       "  <matplotlib.lines.Line2D at 0x249a3520430>,\n",
       "  <matplotlib.lines.Line2D at 0x249a36eefd0>,\n",
       "  <matplotlib.lines.Line2D at 0x249a36ee2b0>,\n",
       "  <matplotlib.lines.Line2D at 0x249a34fa7c0>,\n",
       "  <matplotlib.lines.Line2D at 0x249a34fa430>,\n",
       "  <matplotlib.lines.Line2D at 0x249a3509af0>,\n",
       "  <matplotlib.lines.Line2D at 0x249a3509b20>,\n",
       "  <matplotlib.lines.Line2D at 0x249a36e9250>,\n",
       "  <matplotlib.lines.Line2D at 0x249a36e9d30>,\n",
       "  <matplotlib.lines.Line2D at 0x249a148ecd0>,\n",
       "  <matplotlib.lines.Line2D at 0x249a148e670>,\n",
       "  <matplotlib.lines.Line2D at 0x249a34ba640>,\n",
       "  <matplotlib.lines.Line2D at 0x249a34babe0>,\n",
       "  <matplotlib.lines.Line2D at 0x249a36b3760>,\n",
       "  <matplotlib.lines.Line2D at 0x249a3a0b8b0>,\n",
       "  <matplotlib.lines.Line2D at 0x249a384cf70>,\n",
       "  <matplotlib.lines.Line2D at 0x249a384cd30>],\n",
       " 'boxes': [<matplotlib.lines.Line2D at 0x249a13c7f70>,\n",
       "  <matplotlib.lines.Line2D at 0x249a1436880>,\n",
       "  <matplotlib.lines.Line2D at 0x249a36eefa0>,\n",
       "  <matplotlib.lines.Line2D at 0x249a3519730>,\n",
       "  <matplotlib.lines.Line2D at 0x249a14aa7f0>,\n",
       "  <matplotlib.lines.Line2D at 0x249a36e9e80>,\n",
       "  <matplotlib.lines.Line2D at 0x249a36de880>,\n",
       "  <matplotlib.lines.Line2D at 0x249a36b3520>,\n",
       "  <matplotlib.lines.Line2D at 0x249a3a0b760>],\n",
       " 'medians': [<matplotlib.lines.Line2D at 0x249a3520220>,\n",
       "  <matplotlib.lines.Line2D at 0x249a36eebe0>,\n",
       "  <matplotlib.lines.Line2D at 0x249a3519d60>,\n",
       "  <matplotlib.lines.Line2D at 0x249a3509580>,\n",
       "  <matplotlib.lines.Line2D at 0x249a36e9400>,\n",
       "  <matplotlib.lines.Line2D at 0x249a36de3d0>,\n",
       "  <matplotlib.lines.Line2D at 0x249a145b820>,\n",
       "  <matplotlib.lines.Line2D at 0x249a3a0b160>,\n",
       "  <matplotlib.lines.Line2D at 0x249a34dbdf0>],\n",
       " 'fliers': [<matplotlib.lines.Line2D at 0x249a1436940>,\n",
       "  <matplotlib.lines.Line2D at 0x249a36ee820>,\n",
       "  <matplotlib.lines.Line2D at 0x249a3519610>,\n",
       "  <matplotlib.lines.Line2D at 0x249a14aa8e0>,\n",
       "  <matplotlib.lines.Line2D at 0x249a36e9d60>,\n",
       "  <matplotlib.lines.Line2D at 0x249a36dea90>,\n",
       "  <matplotlib.lines.Line2D at 0x249a34c5b50>,\n",
       "  <matplotlib.lines.Line2D at 0x249a3a0bd90>,\n",
       "  <matplotlib.lines.Line2D at 0x249a34db040>],\n",
       " 'means': []}"
      ]
     },
     "execution_count": 27,
     "metadata": {},
     "output_type": "execute_result"
    },
    {
     "data": {
      "image/png": "[encoded data removed]",
      "text/plain": [
       "<Figure size 432x288 with 1 Axes>"
      ]
     },
     "metadata": {
      "needs_background": "light"
     },
     "output_type": "display_data"
    }
   ],
   "source": [
    "plt.boxplot(corolla)"
   ]
  },
  {
   "cell_type": "code",
   "execution_count": 28,
   "metadata": {},
   "outputs": [
    {
     "data": {
      "text/html": [
       "<div>\n",
       "<style scoped>\n",
       "    .dataframe tbody tr th:only-of-type {\n",
       "        vertical-align: middle;\n",
       "    }\n",
       "\n",
       "    .dataframe tbody tr th {\n",
       "        vertical-align: top;\n",
       "    }\n",
       "\n",
       "    .dataframe thead th {\n",
       "        text-align: right;\n",
       "    }\n",
       "</style>\n",
       "<table border=\"1\" class=\"dataframe\">\n",
       "  <thead>\n",
       "    <tr style=\"text-align: right;\">\n",
       "      <th></th>\n",
       "      <th>Price</th>\n",
       "      <th>Age_08_04</th>\n",
       "      <th>KM</th>\n",
       "      <th>HP</th>\n",
       "      <th>cc</th>\n",
       "      <th>Doors</th>\n",
       "      <th>Gears</th>\n",
       "      <th>Quarterly_Tax</th>\n",
       "      <th>Weight</th>\n",
       "    </tr>\n",
       "  </thead>\n",
       "  <tbody>\n",
       "    <tr>\n",
       "      <th>2</th>\n",
       "      <td>13950</td>\n",
       "      <td>24</td>\n",
       "      <td>41711</td>\n",
       "      <td>90</td>\n",
       "      <td>2000</td>\n",
       "      <td>3</td>\n",
       "      <td>5</td>\n",
       "      <td>210</td>\n",
       "      <td>1165</td>\n",
       "    </tr>\n",
       "    <tr>\n",
       "      <th>4</th>\n",
       "      <td>13750</td>\n",
       "      <td>30</td>\n",
       "      <td>38500</td>\n",
       "      <td>90</td>\n",
       "      <td>2000</td>\n",
       "      <td>3</td>\n",
       "      <td>5</td>\n",
       "      <td>210</td>\n",
       "      <td>1170</td>\n",
       "    </tr>\n",
       "  </tbody>\n",
       "</table>\n",
       "</div>"
      ],
      "text/plain": [
       "   Price  Age_08_04     KM  HP    cc  Doors  Gears  Quarterly_Tax  Weight\n",
       "2  13950         24  41711  90  2000      3      5            210    1165\n",
       "4  13750         30  38500  90  2000      3      5            210    1170"
      ]
     },
     "execution_count": 28,
     "metadata": {},
     "output_type": "execute_result"
    }
   ],
   "source": [
    "corolla.head(2)"
   ]
  },
  {
   "cell_type": "code",
   "execution_count": 29,
   "metadata": {},
   "outputs": [
    {
     "data": {
      "image/png": "[encoded data removed]",
      "text/plain": [
       "<Figure size 432x288 with 1 Axes>"
      ]
     },
     "metadata": {
      "needs_background": "light"
     },
     "output_type": "display_data"
    }
   ],
   "source": [
    "corolla=outlier_cc(corolla)"
   ]
  },
  {
   "cell_type": "code",
   "execution_count": 30,
   "metadata": {},
   "outputs": [
    {
     "data": {
      "text/plain": [
       "{'whiskers': [<matplotlib.lines.Line2D at 0x249a3c2ec70>,\n",
       "  <matplotlib.lines.Line2D at 0x249a3c40040>,\n",
       "  <matplotlib.lines.Line2D at 0x249a3c4d5e0>,\n",
       "  <matplotlib.lines.Line2D at 0x249a3c4d970>,\n",
       "  <matplotlib.lines.Line2D at 0x249a3c55f10>,\n",
       "  <matplotlib.lines.Line2D at 0x249a3c612e0>,\n",
       "  <matplotlib.lines.Line2D at 0x249a3c6e880>,\n",
       "  <matplotlib.lines.Line2D at 0x249a3c6ec10>,\n",
       "  <matplotlib.lines.Line2D at 0x249a3c86190>,\n",
       "  <matplotlib.lines.Line2D at 0x249a3c86520>,\n",
       "  <matplotlib.lines.Line2D at 0x249a3c90af0>,\n",
       "  <matplotlib.lines.Line2D at 0x249a3c90e80>,\n",
       "  <matplotlib.lines.Line2D at 0x249a3cab460>,\n",
       "  <matplotlib.lines.Line2D at 0x249a3cab7f0>,\n",
       "  <matplotlib.lines.Line2D at 0x249a3cb3df0>,\n",
       "  <matplotlib.lines.Line2D at 0x249a3cc21c0>,\n",
       "  <matplotlib.lines.Line2D at 0x249a3cce760>,\n",
       "  <matplotlib.lines.Line2D at 0x249a3cceaf0>],\n",
       " 'caps': [<matplotlib.lines.Line2D at 0x249a3c403d0>,\n",
       "  <matplotlib.lines.Line2D at 0x249a3c40760>,\n",
       "  <matplotlib.lines.Line2D at 0x249a3c4dd00>,\n",
       "  <matplotlib.lines.Line2D at 0x249a3c550d0>,\n",
       "  <matplotlib.lines.Line2D at 0x249a3c61670>,\n",
       "  <matplotlib.lines.Line2D at 0x249a3c61a00>,\n",
       "  <matplotlib.lines.Line2D at 0x249a3c6efa0>,\n",
       "  <matplotlib.lines.Line2D at 0x249a3c7a370>,\n",
       "  <matplotlib.lines.Line2D at 0x249a3c868b0>,\n",
       "  <matplotlib.lines.Line2D at 0x249a3c86c40>,\n",
       "  <matplotlib.lines.Line2D at 0x249a3c9c250>,\n",
       "  <matplotlib.lines.Line2D at 0x249a3c9c5e0>,\n",
       "  <matplotlib.lines.Line2D at 0x249a3cabb80>,\n",
       "  <matplotlib.lines.Line2D at 0x249a3cabf10>,\n",
       "  <matplotlib.lines.Line2D at 0x249a3cc2550>,\n",
       "  <matplotlib.lines.Line2D at 0x249a3cc28e0>,\n",
       "  <matplotlib.lines.Line2D at 0x249a3ccee80>,\n",
       "  <matplotlib.lines.Line2D at 0x249a3cd9250>],\n",
       " 'boxes': [<matplotlib.lines.Line2D at 0x249a3c2e8e0>,\n",
       "  <matplotlib.lines.Line2D at 0x249a3c4d250>,\n",
       "  <matplotlib.lines.Line2D at 0x249a3c55b80>,\n",
       "  <matplotlib.lines.Line2D at 0x249a3c6e4f0>,\n",
       "  <matplotlib.lines.Line2D at 0x249a3c7adc0>,\n",
       "  <matplotlib.lines.Line2D at 0x249a3c90730>,\n",
       "  <matplotlib.lines.Line2D at 0x249a3cab0d0>,\n",
       "  <matplotlib.lines.Line2D at 0x249a3cb3a60>,\n",
       "  <matplotlib.lines.Line2D at 0x249a3cce3d0>],\n",
       " 'medians': [<matplotlib.lines.Line2D at 0x249a3c40af0>,\n",
       "  <matplotlib.lines.Line2D at 0x249a3c55460>,\n",
       "  <matplotlib.lines.Line2D at 0x249a3c61d90>,\n",
       "  <matplotlib.lines.Line2D at 0x249a3c7a6a0>,\n",
       "  <matplotlib.lines.Line2D at 0x249a3c86fd0>,\n",
       "  <matplotlib.lines.Line2D at 0x249a3c9c970>,\n",
       "  <matplotlib.lines.Line2D at 0x249a3cb3340>,\n",
       "  <matplotlib.lines.Line2D at 0x249a3cc2c70>,\n",
       "  <matplotlib.lines.Line2D at 0x249a3cd95e0>],\n",
       " 'fliers': [<matplotlib.lines.Line2D at 0x249a3c40e80>,\n",
       "  <matplotlib.lines.Line2D at 0x249a3c557f0>,\n",
       "  <matplotlib.lines.Line2D at 0x249a3c6e160>,\n",
       "  <matplotlib.lines.Line2D at 0x249a3c7aa30>,\n",
       "  <matplotlib.lines.Line2D at 0x249a3c903a0>,\n",
       "  <matplotlib.lines.Line2D at 0x249a3c9cd00>,\n",
       "  <matplotlib.lines.Line2D at 0x249a3cb36d0>,\n",
       "  <matplotlib.lines.Line2D at 0x249a3cce040>,\n",
       "  <matplotlib.lines.Line2D at 0x249a3cd9970>],\n",
       " 'means': []}"
      ]
     },
     "execution_count": 30,
     "metadata": {},
     "output_type": "execute_result"
    },
    {
     "data": {
      "image/png": "[encoded data removed]",
      "text/plain": [
       "<Figure size 432x288 with 1 Axes>"
      ]
     },
     "metadata": {
      "needs_background": "light"
     },
     "output_type": "display_data"
    }
   ],
   "source": [
    "plt.boxplot(corolla)"
   ]
  },
  {
   "cell_type": "code",
   "execution_count": 31,
   "metadata": {},
   "outputs": [
    {
     "data": {
      "image/png": "[encoded data removed]",
      "text/plain": [
       "<Figure size 432x288 with 1 Axes>"
      ]
     },
     "metadata": {
      "needs_background": "light"
     },
     "output_type": "display_data"
    }
   ],
   "source": [
    "corolla=outlier_km(corolla)"
   ]
  },
  {
   "cell_type": "code",
   "execution_count": 32,
   "metadata": {},
   "outputs": [
    {
     "data": {
      "text/plain": [
       "{'whiskers': [<matplotlib.lines.Line2D at 0x249a3e2d4c0>,\n",
       "  <matplotlib.lines.Line2D at 0x249a3e2d850>,\n",
       "  <matplotlib.lines.Line2D at 0x249a4e09df0>,\n",
       "  <matplotlib.lines.Line2D at 0x249a4e171c0>,\n",
       "  <matplotlib.lines.Line2D at 0x249a4e22760>,\n",
       "  <matplotlib.lines.Line2D at 0x249a4e22af0>,\n",
       "  <matplotlib.lines.Line2D at 0x249a4e390d0>,\n",
       "  <matplotlib.lines.Line2D at 0x249a4e39460>,\n",
       "  <matplotlib.lines.Line2D at 0x249a4e44a00>,\n",
       "  <matplotlib.lines.Line2D at 0x249a4e44d90>,\n",
       "  <matplotlib.lines.Line2D at 0x249a4e5c370>,\n",
       "  <matplotlib.lines.Line2D at 0x249a4e5c700>,\n",
       "  <matplotlib.lines.Line2D at 0x249a4e67ca0>,\n",
       "  <matplotlib.lines.Line2D at 0x249a4e74070>,\n",
       "  <matplotlib.lines.Line2D at 0x249a4e7e610>,\n",
       "  <matplotlib.lines.Line2D at 0x249a4e7e9a0>,\n",
       "  <matplotlib.lines.Line2D at 0x249a4e8bf40>,\n",
       "  <matplotlib.lines.Line2D at 0x249a4e97310>],\n",
       " 'caps': [<matplotlib.lines.Line2D at 0x249a3e2dbe0>,\n",
       "  <matplotlib.lines.Line2D at 0x249a3e2df70>,\n",
       "  <matplotlib.lines.Line2D at 0x249a4e17550>,\n",
       "  <matplotlib.lines.Line2D at 0x249a4e178e0>,\n",
       "  <matplotlib.lines.Line2D at 0x249a4e22e80>,\n",
       "  <matplotlib.lines.Line2D at 0x249a4e2d250>,\n",
       "  <matplotlib.lines.Line2D at 0x249a4e397f0>,\n",
       "  <matplotlib.lines.Line2D at 0x249a4e39b80>,\n",
       "  <matplotlib.lines.Line2D at 0x249a4e51160>,\n",
       "  <matplotlib.lines.Line2D at 0x249a4e514f0>,\n",
       "  <matplotlib.lines.Line2D at 0x249a4e5ca90>,\n",
       "  <matplotlib.lines.Line2D at 0x249a4e5ce20>,\n",
       "  <matplotlib.lines.Line2D at 0x249a4e74400>,\n",
       "  <matplotlib.lines.Line2D at 0x249a4e74790>,\n",
       "  <matplotlib.lines.Line2D at 0x249a4e7ed30>,\n",
       "  <matplotlib.lines.Line2D at 0x249a4e8b100>,\n",
       "  <matplotlib.lines.Line2D at 0x249a4e976a0>,\n",
       "  <matplotlib.lines.Line2D at 0x249a4e97a30>],\n",
       " 'boxes': [<matplotlib.lines.Line2D at 0x249a3e2d130>,\n",
       "  <matplotlib.lines.Line2D at 0x249a4e09a60>,\n",
       "  <matplotlib.lines.Line2D at 0x249a4e223d0>,\n",
       "  <matplotlib.lines.Line2D at 0x249a4e2dd00>,\n",
       "  <matplotlib.lines.Line2D at 0x249a4e44670>,\n",
       "  <matplotlib.lines.Line2D at 0x249a4e51fa0>,\n",
       "  <matplotlib.lines.Line2D at 0x249a4e67910>,\n",
       "  <matplotlib.lines.Line2D at 0x249a4e7e280>,\n",
       "  <matplotlib.lines.Line2D at 0x249a4e8bbb0>],\n",
       " 'medians': [<matplotlib.lines.Line2D at 0x249a4e09340>,\n",
       "  <matplotlib.lines.Line2D at 0x249a4e17c70>,\n",
       "  <matplotlib.lines.Line2D at 0x249a4e2d5e0>,\n",
       "  <matplotlib.lines.Line2D at 0x249a4e39f10>,\n",
       "  <matplotlib.lines.Line2D at 0x249a4e51880>,\n",
       "  <matplotlib.lines.Line2D at 0x249a4e671f0>,\n",
       "  <matplotlib.lines.Line2D at 0x249a4e74b20>,\n",
       "  <matplotlib.lines.Line2D at 0x249a4e8b490>,\n",
       "  <matplotlib.lines.Line2D at 0x249a4e97dc0>],\n",
       " 'fliers': [<matplotlib.lines.Line2D at 0x249a4e096d0>,\n",
       "  <matplotlib.lines.Line2D at 0x249a4e22040>,\n",
       "  <matplotlib.lines.Line2D at 0x249a4e2d970>,\n",
       "  <matplotlib.lines.Line2D at 0x249a4e442e0>,\n",
       "  <matplotlib.lines.Line2D at 0x249a4e51c10>,\n",
       "  <matplotlib.lines.Line2D at 0x249a4e67580>,\n",
       "  <matplotlib.lines.Line2D at 0x249a4e74eb0>,\n",
       "  <matplotlib.lines.Line2D at 0x249a4e8b820>,\n",
       "  <matplotlib.lines.Line2D at 0x249a4ea5190>],\n",
       " 'means': []}"
      ]
     },
     "execution_count": 32,
     "metadata": {},
     "output_type": "execute_result"
    },
    {
     "data": {
      "image/png": "[encoded data removed]",
      "text/plain": [
       "<Figure size 432x288 with 1 Axes>"
      ]
     },
     "metadata": {
      "needs_background": "light"
     },
     "output_type": "display_data"
    }
   ],
   "source": [
    "plt.boxplot(corolla)"
   ]
  },
  {
   "cell_type": "code",
   "execution_count": 33,
   "metadata": {},
   "outputs": [
    {
     "data": {
      "text/plain": [
       "(1119, 9)"
      ]
     },
     "execution_count": 33,
     "metadata": {},
     "output_type": "execute_result"
    }
   ],
   "source": [
    "corolla.shape"
   ]
  },
  {
   "cell_type": "code",
   "execution_count": null,
   "metadata": {},
   "outputs": [],
   "source": []
  }
 ],
 "metadata": {
  "interpreter": {
   "hash": "5e46e4906b2d5accd29efc97d1c88744eac17bf885e81d6752fbc05e5e847a22"
  },
  "kernelspec": {
   "display_name": "Python 3.9.2 64-bit",
   "language": "python",
   "name": "python3"
  },
  "language_info": {
   "codemirror_mode": {
    "name": "ipython",
    "version": 3
   },
   "file_extension": ".py",
   "mimetype": "text/x-python",
   "name": "python",
   "nbconvert_exporter": "python",
   "pygments_lexer": "ipython3",
   "version": "3.9.2"
  },
  "orig_nbformat": 4
 },
 "nbformat": 4,
 "nbformat_minor": 2
}
