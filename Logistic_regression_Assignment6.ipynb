{
  "cells": [
    {
      "cell_type": "code",
      "execution_count": 1,
      "metadata": {
        "id": "oYaXJQ9KtUhu"
      },
      "outputs": [],
      "source": [
        "import pandas as pd\n",
        "import numpy as np\n",
        "import seaborn as sns\n",
        "import matplotlib.pyplot as plt\n",
        "from sklearn.linear_model import LogisticRegression"
      ]
    },
    {
      "cell_type": "code",
      "execution_count": 2,
      "metadata": {
        "id": "XRHa-OsatyD-"
      },
      "outputs": [],
      "source": [
        "df=pd.read_csv(\"bank-full (1).csv\",delimiter=\";\")    #to arrange data into proper form"
      ]
    },
    {
      "cell_type": "code",
      "execution_count": 3,
      "metadata": {
        "colab": {
          "base_uri": "https://localhost:8080/",
          "height": 206
        },
        "id": "SMdH0_VYt5vo",
        "outputId": "9ca05589-96d6-4eb4-855c-bfd117dbb745"
      },
      "outputs": [
        {
          "data": {
            "text/html": [
              "<div>\n",
              "<style scoped>\n",
              "    .dataframe tbody tr th:only-of-type {\n",
              "        vertical-align: middle;\n",
              "    }\n",
              "\n",
              "    .dataframe tbody tr th {\n",
              "        vertical-align: top;\n",
              "    }\n",
              "\n",
              "    .dataframe thead th {\n",
              "        text-align: right;\n",
              "    }\n",
              "</style>\n",
              "<table border=\"1\" class=\"dataframe\">\n",
              "  <thead>\n",
              "    <tr style=\"text-align: right;\">\n",
              "      <th></th>\n",
              "      <th>age</th>\n",
              "      <th>job</th>\n",
              "      <th>marital</th>\n",
              "      <th>education</th>\n",
              "      <th>default</th>\n",
              "      <th>balance</th>\n",
              "      <th>housing</th>\n",
              "      <th>loan</th>\n",
              "      <th>contact</th>\n",
              "      <th>day</th>\n",
              "      <th>month</th>\n",
              "      <th>duration</th>\n",
              "      <th>campaign</th>\n",
              "      <th>pdays</th>\n",
              "      <th>previous</th>\n",
              "      <th>poutcome</th>\n",
              "      <th>y</th>\n",
              "    </tr>\n",
              "  </thead>\n",
              "  <tbody>\n",
              "    <tr>\n",
              "      <th>0</th>\n",
              "      <td>58</td>\n",
              "      <td>management</td>\n",
              "      <td>married</td>\n",
              "      <td>tertiary</td>\n",
              "      <td>no</td>\n",
              "      <td>2143</td>\n",
              "      <td>yes</td>\n",
              "      <td>no</td>\n",
              "      <td>unknown</td>\n",
              "      <td>5</td>\n",
              "      <td>may</td>\n",
              "      <td>261</td>\n",
              "      <td>1</td>\n",
              "      <td>-1</td>\n",
              "      <td>0</td>\n",
              "      <td>unknown</td>\n",
              "      <td>no</td>\n",
              "    </tr>\n",
              "    <tr>\n",
              "      <th>1</th>\n",
              "      <td>44</td>\n",
              "      <td>technician</td>\n",
              "      <td>single</td>\n",
              "      <td>secondary</td>\n",
              "      <td>no</td>\n",
              "      <td>29</td>\n",
              "      <td>yes</td>\n",
              "      <td>no</td>\n",
              "      <td>unknown</td>\n",
              "      <td>5</td>\n",
              "      <td>may</td>\n",
              "      <td>151</td>\n",
              "      <td>1</td>\n",
              "      <td>-1</td>\n",
              "      <td>0</td>\n",
              "      <td>unknown</td>\n",
              "      <td>no</td>\n",
              "    </tr>\n",
              "    <tr>\n",
              "      <th>2</th>\n",
              "      <td>33</td>\n",
              "      <td>entrepreneur</td>\n",
              "      <td>married</td>\n",
              "      <td>secondary</td>\n",
              "      <td>no</td>\n",
              "      <td>2</td>\n",
              "      <td>yes</td>\n",
              "      <td>yes</td>\n",
              "      <td>unknown</td>\n",
              "      <td>5</td>\n",
              "      <td>may</td>\n",
              "      <td>76</td>\n",
              "      <td>1</td>\n",
              "      <td>-1</td>\n",
              "      <td>0</td>\n",
              "      <td>unknown</td>\n",
              "      <td>no</td>\n",
              "    </tr>\n",
              "    <tr>\n",
              "      <th>3</th>\n",
              "      <td>47</td>\n",
              "      <td>blue-collar</td>\n",
              "      <td>married</td>\n",
              "      <td>unknown</td>\n",
              "      <td>no</td>\n",
              "      <td>1506</td>\n",
              "      <td>yes</td>\n",
              "      <td>no</td>\n",
              "      <td>unknown</td>\n",
              "      <td>5</td>\n",
              "      <td>may</td>\n",
              "      <td>92</td>\n",
              "      <td>1</td>\n",
              "      <td>-1</td>\n",
              "      <td>0</td>\n",
              "      <td>unknown</td>\n",
              "      <td>no</td>\n",
              "    </tr>\n",
              "    <tr>\n",
              "      <th>4</th>\n",
              "      <td>33</td>\n",
              "      <td>unknown</td>\n",
              "      <td>single</td>\n",
              "      <td>unknown</td>\n",
              "      <td>no</td>\n",
              "      <td>1</td>\n",
              "      <td>no</td>\n",
              "      <td>no</td>\n",
              "      <td>unknown</td>\n",
              "      <td>5</td>\n",
              "      <td>may</td>\n",
              "      <td>198</td>\n",
              "      <td>1</td>\n",
              "      <td>-1</td>\n",
              "      <td>0</td>\n",
              "      <td>unknown</td>\n",
              "      <td>no</td>\n",
              "    </tr>\n",
              "  </tbody>\n",
              "</table>\n",
              "</div>"
            ],
            "text/plain": [
              "   age           job  marital  education default  balance housing loan  \\\n",
              "0   58    management  married   tertiary      no     2143     yes   no   \n",
              "1   44    technician   single  secondary      no       29     yes   no   \n",
              "2   33  entrepreneur  married  secondary      no        2     yes  yes   \n",
              "3   47   blue-collar  married    unknown      no     1506     yes   no   \n",
              "4   33       unknown   single    unknown      no        1      no   no   \n",
              "\n",
              "   contact  day month  duration  campaign  pdays  previous poutcome   y  \n",
              "0  unknown    5   may       261         1     -1         0  unknown  no  \n",
              "1  unknown    5   may       151         1     -1         0  unknown  no  \n",
              "2  unknown    5   may        76         1     -1         0  unknown  no  \n",
              "3  unknown    5   may        92         1     -1         0  unknown  no  \n",
              "4  unknown    5   may       198         1     -1         0  unknown  no  "
            ]
          },
          "execution_count": 3,
          "metadata": {},
          "output_type": "execute_result"
        }
      ],
      "source": [
        "df.head()"
      ]
    },
    {
      "cell_type": "code",
      "execution_count": 4,
      "metadata": {
        "colab": {
          "base_uri": "https://localhost:8080/"
        },
        "id": "DtDOgtXet9NY",
        "outputId": "1b056abc-838d-4bf6-f49e-cee2dafae999"
      },
      "outputs": [
        {
          "data": {
            "text/plain": [
              "(45211, 17)"
            ]
          },
          "execution_count": 4,
          "metadata": {},
          "output_type": "execute_result"
        }
      ],
      "source": [
        "df.shape"
      ]
    },
    {
      "cell_type": "code",
      "execution_count": 5,
      "metadata": {
        "colab": {
          "base_uri": "https://localhost:8080/",
          "height": 299
        },
        "id": "Gxbs_atxui70",
        "outputId": "80add7fe-8cb1-4c24-b5a4-8468a29fbc4e"
      },
      "outputs": [
        {
          "data": {
            "text/html": [
              "<div>\n",
              "<style scoped>\n",
              "    .dataframe tbody tr th:only-of-type {\n",
              "        vertical-align: middle;\n",
              "    }\n",
              "\n",
              "    .dataframe tbody tr th {\n",
              "        vertical-align: top;\n",
              "    }\n",
              "\n",
              "    .dataframe thead th {\n",
              "        text-align: right;\n",
              "    }\n",
              "</style>\n",
              "<table border=\"1\" class=\"dataframe\">\n",
              "  <thead>\n",
              "    <tr style=\"text-align: right;\">\n",
              "      <th></th>\n",
              "      <th>age</th>\n",
              "      <th>balance</th>\n",
              "      <th>day</th>\n",
              "      <th>duration</th>\n",
              "      <th>campaign</th>\n",
              "      <th>pdays</th>\n",
              "      <th>previous</th>\n",
              "    </tr>\n",
              "  </thead>\n",
              "  <tbody>\n",
              "    <tr>\n",
              "      <th>count</th>\n",
              "      <td>45211.000000</td>\n",
              "      <td>45211.000000</td>\n",
              "      <td>45211.000000</td>\n",
              "      <td>45211.000000</td>\n",
              "      <td>45211.000000</td>\n",
              "      <td>45211.000000</td>\n",
              "      <td>45211.000000</td>\n",
              "    </tr>\n",
              "    <tr>\n",
              "      <th>mean</th>\n",
              "      <td>40.936210</td>\n",
              "      <td>1362.272058</td>\n",
              "      <td>15.806419</td>\n",
              "      <td>258.163080</td>\n",
              "      <td>2.763841</td>\n",
              "      <td>40.197828</td>\n",
              "      <td>0.580323</td>\n",
              "    </tr>\n",
              "    <tr>\n",
              "      <th>std</th>\n",
              "      <td>10.618762</td>\n",
              "      <td>3044.765829</td>\n",
              "      <td>8.322476</td>\n",
              "      <td>257.527812</td>\n",
              "      <td>3.098021</td>\n",
              "      <td>100.128746</td>\n",
              "      <td>2.303441</td>\n",
              "    </tr>\n",
              "    <tr>\n",
              "      <th>min</th>\n",
              "      <td>18.000000</td>\n",
              "      <td>-8019.000000</td>\n",
              "      <td>1.000000</td>\n",
              "      <td>0.000000</td>\n",
              "      <td>1.000000</td>\n",
              "      <td>-1.000000</td>\n",
              "      <td>0.000000</td>\n",
              "    </tr>\n",
              "    <tr>\n",
              "      <th>25%</th>\n",
              "      <td>33.000000</td>\n",
              "      <td>72.000000</td>\n",
              "      <td>8.000000</td>\n",
              "      <td>103.000000</td>\n",
              "      <td>1.000000</td>\n",
              "      <td>-1.000000</td>\n",
              "      <td>0.000000</td>\n",
              "    </tr>\n",
              "    <tr>\n",
              "      <th>50%</th>\n",
              "      <td>39.000000</td>\n",
              "      <td>448.000000</td>\n",
              "      <td>16.000000</td>\n",
              "      <td>180.000000</td>\n",
              "      <td>2.000000</td>\n",
              "      <td>-1.000000</td>\n",
              "      <td>0.000000</td>\n",
              "    </tr>\n",
              "    <tr>\n",
              "      <th>75%</th>\n",
              "      <td>48.000000</td>\n",
              "      <td>1428.000000</td>\n",
              "      <td>21.000000</td>\n",
              "      <td>319.000000</td>\n",
              "      <td>3.000000</td>\n",
              "      <td>-1.000000</td>\n",
              "      <td>0.000000</td>\n",
              "    </tr>\n",
              "    <tr>\n",
              "      <th>max</th>\n",
              "      <td>95.000000</td>\n",
              "      <td>102127.000000</td>\n",
              "      <td>31.000000</td>\n",
              "      <td>4918.000000</td>\n",
              "      <td>63.000000</td>\n",
              "      <td>871.000000</td>\n",
              "      <td>275.000000</td>\n",
              "    </tr>\n",
              "  </tbody>\n",
              "</table>\n",
              "</div>"
            ],
            "text/plain": [
              "                age        balance           day      duration      campaign  \\\n",
              "count  45211.000000   45211.000000  45211.000000  45211.000000  45211.000000   \n",
              "mean      40.936210    1362.272058     15.806419    258.163080      2.763841   \n",
              "std       10.618762    3044.765829      8.322476    257.527812      3.098021   \n",
              "min       18.000000   -8019.000000      1.000000      0.000000      1.000000   \n",
              "25%       33.000000      72.000000      8.000000    103.000000      1.000000   \n",
              "50%       39.000000     448.000000     16.000000    180.000000      2.000000   \n",
              "75%       48.000000    1428.000000     21.000000    319.000000      3.000000   \n",
              "max       95.000000  102127.000000     31.000000   4918.000000     63.000000   \n",
              "\n",
              "              pdays      previous  \n",
              "count  45211.000000  45211.000000  \n",
              "mean      40.197828      0.580323  \n",
              "std      100.128746      2.303441  \n",
              "min       -1.000000      0.000000  \n",
              "25%       -1.000000      0.000000  \n",
              "50%       -1.000000      0.000000  \n",
              "75%       -1.000000      0.000000  \n",
              "max      871.000000    275.000000  "
            ]
          },
          "execution_count": 5,
          "metadata": {},
          "output_type": "execute_result"
        }
      ],
      "source": [
        "df.describe()"
      ]
    },
    {
      "cell_type": "code",
      "execution_count": 6,
      "metadata": {
        "colab": {
          "base_uri": "https://localhost:8080/"
        },
        "id": "VA1fZ2eP_SYN",
        "outputId": "1a8eb3b6-bbd9-4c1e-9e31-312eb2547561"
      },
      "outputs": [
        {
          "name": "stdout",
          "output_type": "stream",
          "text": [
            "<class 'pandas.core.frame.DataFrame'>\n",
            "RangeIndex: 45211 entries, 0 to 45210\n",
            "Data columns (total 17 columns):\n",
            " #   Column     Non-Null Count  Dtype \n",
            "---  ------     --------------  ----- \n",
            " 0   age        45211 non-null  int64 \n",
            " 1   job        45211 non-null  object\n",
            " 2   marital    45211 non-null  object\n",
            " 3   education  45211 non-null  object\n",
            " 4   default    45211 non-null  object\n",
            " 5   balance    45211 non-null  int64 \n",
            " 6   housing    45211 non-null  object\n",
            " 7   loan       45211 non-null  object\n",
            " 8   contact    45211 non-null  object\n",
            " 9   day        45211 non-null  int64 \n",
            " 10  month      45211 non-null  object\n",
            " 11  duration   45211 non-null  int64 \n",
            " 12  campaign   45211 non-null  int64 \n",
            " 13  pdays      45211 non-null  int64 \n",
            " 14  previous   45211 non-null  int64 \n",
            " 15  poutcome   45211 non-null  object\n",
            " 16  y          45211 non-null  object\n",
            "dtypes: int64(7), object(10)\n",
            "memory usage: 5.9+ MB\n"
          ]
        }
      ],
      "source": [
        "df.info()   #as we can se there is no null value"
      ]
    },
    {
      "cell_type": "markdown",
      "metadata": {
        "id": "-qe6bVxK9ZBc"
      },
      "source": [
        "# **Plots of unique values of columns**"
      ]
    },
    {
      "cell_type": "code",
      "execution_count": 7,
      "metadata": {
        "colab": {
          "base_uri": "https://localhost:8080/",
          "height": 334
        },
        "id": "Kk5E0-fG_b2X",
        "outputId": "e358884e-147f-41bf-e050-f48fd22c4fe7"
      },
      "outputs": [
        {
          "data": {
            "text/plain": [
              "(array([ 1336., 11747., 12925.,  8015.,  7066.,  3312.,   377.,   303.,\n",
              "          116.,    14.]),\n",
              " array([18. , 25.7, 33.4, 41.1, 48.8, 56.5, 64.2, 71.9, 79.6, 87.3, 95. ]),\n",
              " <BarContainer object of 10 artists>)"
            ]
          },
          "execution_count": 7,
          "metadata": {},
          "output_type": "execute_result"
        },
        {
          "data": {
            "image/png": "[encoded data removed]",
            "text/plain": [
              "<Figure size 432x288 with 1 Axes>"
            ]
          },
          "metadata": {
            "needs_background": "light"
          },
          "output_type": "display_data"
        }
      ],
      "source": [
        "plt.hist(df[\"age\"])  #in data set mostly age are between 25-45"
      ]
    },
    {
      "cell_type": "code",
      "execution_count": 8,
      "metadata": {
        "colab": {
          "base_uri": "https://localhost:8080/",
          "height": 294
        },
        "id": "_baPF0dUxuBn",
        "outputId": "dc736076-f0f1-418c-e4cc-1e7cab40afe9"
      },
      "outputs": [
        {
          "data": {
            "text/plain": [
              "<AxesSubplot:>"
            ]
          },
          "execution_count": 8,
          "metadata": {},
          "output_type": "execute_result"
        },
        {
          "data": {
            "image/png": "[encoded data removed]",
            "text/plain": [
              "<Figure size 432x288 with 1 Axes>"
            ]
          },
          "metadata": {
            "needs_background": "light"
          },
          "output_type": "display_data"
        }
      ],
      "source": [
        "df[\"month\"].value_counts().plot.bar()   # as we see most of last contact of client data from may and lowest at dec"
      ]
    },
    {
      "cell_type": "code",
      "execution_count": 9,
      "metadata": {
        "colab": {
          "base_uri": "https://localhost:8080/",
          "height": 343
        },
        "id": "_P2nDaaH802A",
        "outputId": "84c20639-24d1-442c-9df7-b3b643fac7d5"
      },
      "outputs": [
        {
          "data": {
            "text/plain": [
              "<AxesSubplot:>"
            ]
          },
          "execution_count": 9,
          "metadata": {},
          "output_type": "execute_result"
        },
        {
          "data": {
            "image/png": "[encoded data removed]",
            "text/plain": [
              "<Figure size 432x288 with 1 Axes>"
            ]
          },
          "metadata": {
            "needs_background": "light"
          },
          "output_type": "display_data"
        }
      ],
      "source": [
        "df[\"job\"].value_counts().plot.bar()     # most of clients have from blue_collor, management and tec field"
      ]
    },
    {
      "cell_type": "code",
      "execution_count": 10,
      "metadata": {
        "colab": {
          "base_uri": "https://localhost:8080/",
          "height": 315
        },
        "id": "jIee5jwH85Kz",
        "outputId": "c46b6803-5e90-4263-c305-3f06d598eb4c"
      },
      "outputs": [
        {
          "data": {
            "text/plain": [
              "<AxesSubplot:>"
            ]
          },
          "execution_count": 10,
          "metadata": {},
          "output_type": "execute_result"
        },
        {
          "data": {
            "image/png": "[encoded data removed]",
            "text/plain": [
              "<Figure size 432x288 with 1 Axes>"
            ]
          },
          "metadata": {
            "needs_background": "light"
          },
          "output_type": "display_data"
        }
      ],
      "source": [
        "df[\"marital\"].value_counts().plot.bar()    # are most of clients belongs to married cateory"
      ]
    },
    {
      "cell_type": "code",
      "execution_count": 11,
      "metadata": {
        "colab": {
          "base_uri": "https://localhost:8080/",
          "height": 324
        },
        "id": "PNzsg7i79G1t",
        "outputId": "c017c1c9-bd44-44d3-cfc3-4d258b3eefb8"
      },
      "outputs": [
        {
          "data": {
            "text/plain": [
              "<AxesSubplot:>"
            ]
          },
          "execution_count": 11,
          "metadata": {},
          "output_type": "execute_result"
        },
        {
          "data": {
            "image/png": "[encoded data removed]",
            "text/plain": [
              "<Figure size 432x288 with 1 Axes>"
            ]
          },
          "metadata": {
            "needs_background": "light"
          },
          "output_type": "display_data"
        }
      ],
      "source": [
        "df[\"education\"].value_counts().plot.bar()"
      ]
    },
    {
      "cell_type": "code",
      "execution_count": 12,
      "metadata": {
        "colab": {
          "base_uri": "https://localhost:8080/",
          "height": 322
        },
        "id": "qbv6wRJn9KuP",
        "outputId": "81a40928-5dac-4e36-a69e-ee82c8ddb02c"
      },
      "outputs": [
        {
          "data": {
            "text/plain": [
              "<AxesSubplot:>"
            ]
          },
          "execution_count": 12,
          "metadata": {},
          "output_type": "execute_result"
        },
        {
          "data": {
            "image/png": "[encoded data removed]",
            "text/plain": [
              "<Figure size 432x288 with 1 Axes>"
            ]
          },
          "metadata": {
            "needs_background": "light"
          },
          "output_type": "display_data"
        }
      ],
      "source": [
        "df[\"contact\"].value_counts().plot.bar()"
      ]
    },
    {
      "cell_type": "code",
      "execution_count": 13,
      "metadata": {
        "colab": {
          "base_uri": "https://localhost:8080/",
          "height": 318
        },
        "id": "Aa8OKwwl9O6q",
        "outputId": "d4c43c41-07c9-4634-ce2b-3f1f4197637a"
      },
      "outputs": [
        {
          "data": {
            "text/plain": [
              "<AxesSubplot:>"
            ]
          },
          "execution_count": 13,
          "metadata": {},
          "output_type": "execute_result"
        },
        {
          "data": {
            "image/png": "[encoded data removed]",
            "text/plain": [
              "<Figure size 432x288 with 1 Axes>"
            ]
          },
          "metadata": {
            "needs_background": "light"
          },
          "output_type": "display_data"
        }
      ],
      "source": [
        "df[\"poutcome\"].value_counts().plot.bar()"
      ]
    },
    {
      "cell_type": "code",
      "execution_count": 14,
      "metadata": {
        "colab": {
          "base_uri": "https://localhost:8080/",
          "height": 206
        },
        "id": "5p4ilPjASDJ0",
        "outputId": "3dc68aa9-01b8-46a3-ac37-93d9c775514b"
      },
      "outputs": [
        {
          "data": {
            "text/html": [
              "<div>\n",
              "<style scoped>\n",
              "    .dataframe tbody tr th:only-of-type {\n",
              "        vertical-align: middle;\n",
              "    }\n",
              "\n",
              "    .dataframe tbody tr th {\n",
              "        vertical-align: top;\n",
              "    }\n",
              "\n",
              "    .dataframe thead th {\n",
              "        text-align: right;\n",
              "    }\n",
              "</style>\n",
              "<table border=\"1\" class=\"dataframe\">\n",
              "  <thead>\n",
              "    <tr style=\"text-align: right;\">\n",
              "      <th></th>\n",
              "      <th>age</th>\n",
              "      <th>balance</th>\n",
              "      <th>day</th>\n",
              "      <th>duration</th>\n",
              "      <th>campaign</th>\n",
              "      <th>pdays</th>\n",
              "      <th>previous</th>\n",
              "    </tr>\n",
              "  </thead>\n",
              "  <tbody>\n",
              "    <tr>\n",
              "      <th>0</th>\n",
              "      <td>58</td>\n",
              "      <td>2143</td>\n",
              "      <td>5</td>\n",
              "      <td>261</td>\n",
              "      <td>1</td>\n",
              "      <td>-1</td>\n",
              "      <td>0</td>\n",
              "    </tr>\n",
              "    <tr>\n",
              "      <th>1</th>\n",
              "      <td>44</td>\n",
              "      <td>29</td>\n",
              "      <td>5</td>\n",
              "      <td>151</td>\n",
              "      <td>1</td>\n",
              "      <td>-1</td>\n",
              "      <td>0</td>\n",
              "    </tr>\n",
              "    <tr>\n",
              "      <th>2</th>\n",
              "      <td>33</td>\n",
              "      <td>2</td>\n",
              "      <td>5</td>\n",
              "      <td>76</td>\n",
              "      <td>1</td>\n",
              "      <td>-1</td>\n",
              "      <td>0</td>\n",
              "    </tr>\n",
              "    <tr>\n",
              "      <th>3</th>\n",
              "      <td>47</td>\n",
              "      <td>1506</td>\n",
              "      <td>5</td>\n",
              "      <td>92</td>\n",
              "      <td>1</td>\n",
              "      <td>-1</td>\n",
              "      <td>0</td>\n",
              "    </tr>\n",
              "    <tr>\n",
              "      <th>4</th>\n",
              "      <td>33</td>\n",
              "      <td>1</td>\n",
              "      <td>5</td>\n",
              "      <td>198</td>\n",
              "      <td>1</td>\n",
              "      <td>-1</td>\n",
              "      <td>0</td>\n",
              "    </tr>\n",
              "  </tbody>\n",
              "</table>\n",
              "</div>"
            ],
            "text/plain": [
              "   age  balance  day  duration  campaign  pdays  previous\n",
              "0   58     2143    5       261         1     -1         0\n",
              "1   44       29    5       151         1     -1         0\n",
              "2   33        2    5        76         1     -1         0\n",
              "3   47     1506    5        92         1     -1         0\n",
              "4   33        1    5       198         1     -1         0"
            ]
          },
          "execution_count": 14,
          "metadata": {},
          "output_type": "execute_result"
        }
      ],
      "source": [
        "num_data = df.select_dtypes(include='number')\n",
        "num_data.head()\n",
        "\n"
      ]
    },
    {
      "cell_type": "markdown",
      "metadata": {
        "id": "PsF5lFSOO33j"
      },
      "source": [
        "# **Standrdizing a numeric columns from data set**"
      ]
    },
    {
      "cell_type": "code",
      "execution_count": 15,
      "metadata": {
        "colab": {
          "base_uri": "https://localhost:8080/",
          "height": 423
        },
        "id": "zMlOo81hO3D2",
        "outputId": "fc4fa392-7406-430d-9a32-a989b785be76"
      },
      "outputs": [
        {
          "data": {
            "text/html": [
              "<div>\n",
              "<style scoped>\n",
              "    .dataframe tbody tr th:only-of-type {\n",
              "        vertical-align: middle;\n",
              "    }\n",
              "\n",
              "    .dataframe tbody tr th {\n",
              "        vertical-align: top;\n",
              "    }\n",
              "\n",
              "    .dataframe thead th {\n",
              "        text-align: right;\n",
              "    }\n",
              "</style>\n",
              "<table border=\"1\" class=\"dataframe\">\n",
              "  <thead>\n",
              "    <tr style=\"text-align: right;\">\n",
              "      <th></th>\n",
              "      <th>age</th>\n",
              "      <th>balance</th>\n",
              "      <th>day</th>\n",
              "      <th>duration</th>\n",
              "      <th>campaign</th>\n",
              "      <th>pdays</th>\n",
              "      <th>previous</th>\n",
              "    </tr>\n",
              "  </thead>\n",
              "  <tbody>\n",
              "    <tr>\n",
              "      <th>0</th>\n",
              "      <td>1.606965</td>\n",
              "      <td>0.256419</td>\n",
              "      <td>-1.298476</td>\n",
              "      <td>0.011016</td>\n",
              "      <td>-0.569351</td>\n",
              "      <td>-0.411453</td>\n",
              "      <td>-0.251940</td>\n",
              "    </tr>\n",
              "    <tr>\n",
              "      <th>1</th>\n",
              "      <td>0.288529</td>\n",
              "      <td>-0.437895</td>\n",
              "      <td>-1.298476</td>\n",
              "      <td>-0.416127</td>\n",
              "      <td>-0.569351</td>\n",
              "      <td>-0.411453</td>\n",
              "      <td>-0.251940</td>\n",
              "    </tr>\n",
              "    <tr>\n",
              "      <th>2</th>\n",
              "      <td>-0.747384</td>\n",
              "      <td>-0.446762</td>\n",
              "      <td>-1.298476</td>\n",
              "      <td>-0.707361</td>\n",
              "      <td>-0.569351</td>\n",
              "      <td>-0.411453</td>\n",
              "      <td>-0.251940</td>\n",
              "    </tr>\n",
              "    <tr>\n",
              "      <th>3</th>\n",
              "      <td>0.571051</td>\n",
              "      <td>0.047205</td>\n",
              "      <td>-1.298476</td>\n",
              "      <td>-0.645231</td>\n",
              "      <td>-0.569351</td>\n",
              "      <td>-0.411453</td>\n",
              "      <td>-0.251940</td>\n",
              "    </tr>\n",
              "    <tr>\n",
              "      <th>4</th>\n",
              "      <td>-0.747384</td>\n",
              "      <td>-0.447091</td>\n",
              "      <td>-1.298476</td>\n",
              "      <td>-0.233620</td>\n",
              "      <td>-0.569351</td>\n",
              "      <td>-0.411453</td>\n",
              "      <td>-0.251940</td>\n",
              "    </tr>\n",
              "    <tr>\n",
              "      <th>...</th>\n",
              "      <td>...</td>\n",
              "      <td>...</td>\n",
              "      <td>...</td>\n",
              "      <td>...</td>\n",
              "      <td>...</td>\n",
              "      <td>...</td>\n",
              "      <td>...</td>\n",
              "    </tr>\n",
              "    <tr>\n",
              "      <th>45206</th>\n",
              "      <td>0.947747</td>\n",
              "      <td>-0.176460</td>\n",
              "      <td>0.143418</td>\n",
              "      <td>2.791329</td>\n",
              "      <td>0.076230</td>\n",
              "      <td>-0.411453</td>\n",
              "      <td>-0.251940</td>\n",
              "    </tr>\n",
              "    <tr>\n",
              "      <th>45207</th>\n",
              "      <td>2.831227</td>\n",
              "      <td>0.120447</td>\n",
              "      <td>0.143418</td>\n",
              "      <td>0.768224</td>\n",
              "      <td>-0.246560</td>\n",
              "      <td>-0.411453</td>\n",
              "      <td>-0.251940</td>\n",
              "    </tr>\n",
              "    <tr>\n",
              "      <th>45208</th>\n",
              "      <td>2.925401</td>\n",
              "      <td>1.429593</td>\n",
              "      <td>0.143418</td>\n",
              "      <td>3.373797</td>\n",
              "      <td>0.721811</td>\n",
              "      <td>1.436189</td>\n",
              "      <td>1.050473</td>\n",
              "    </tr>\n",
              "    <tr>\n",
              "      <th>45209</th>\n",
              "      <td>1.512791</td>\n",
              "      <td>-0.228024</td>\n",
              "      <td>0.143418</td>\n",
              "      <td>0.970146</td>\n",
              "      <td>0.399020</td>\n",
              "      <td>-0.411453</td>\n",
              "      <td>-0.251940</td>\n",
              "    </tr>\n",
              "    <tr>\n",
              "      <th>45210</th>\n",
              "      <td>-0.370689</td>\n",
              "      <td>0.528364</td>\n",
              "      <td>0.143418</td>\n",
              "      <td>0.399328</td>\n",
              "      <td>-0.246560</td>\n",
              "      <td>1.476138</td>\n",
              "      <td>4.523577</td>\n",
              "    </tr>\n",
              "  </tbody>\n",
              "</table>\n",
              "<p>45211 rows × 7 columns</p>\n",
              "</div>"
            ],
            "text/plain": [
              "            age   balance       day  duration  campaign     pdays  previous\n",
              "0      1.606965  0.256419 -1.298476  0.011016 -0.569351 -0.411453 -0.251940\n",
              "1      0.288529 -0.437895 -1.298476 -0.416127 -0.569351 -0.411453 -0.251940\n",
              "2     -0.747384 -0.446762 -1.298476 -0.707361 -0.569351 -0.411453 -0.251940\n",
              "3      0.571051  0.047205 -1.298476 -0.645231 -0.569351 -0.411453 -0.251940\n",
              "4     -0.747384 -0.447091 -1.298476 -0.233620 -0.569351 -0.411453 -0.251940\n",
              "...         ...       ...       ...       ...       ...       ...       ...\n",
              "45206  0.947747 -0.176460  0.143418  2.791329  0.076230 -0.411453 -0.251940\n",
              "45207  2.831227  0.120447  0.143418  0.768224 -0.246560 -0.411453 -0.251940\n",
              "45208  2.925401  1.429593  0.143418  3.373797  0.721811  1.436189  1.050473\n",
              "45209  1.512791 -0.228024  0.143418  0.970146  0.399020 -0.411453 -0.251940\n",
              "45210 -0.370689  0.528364  0.143418  0.399328 -0.246560  1.476138  4.523577\n",
              "\n",
              "[45211 rows x 7 columns]"
            ]
          },
          "execution_count": 15,
          "metadata": {},
          "output_type": "execute_result"
        }
      ],
      "source": [
        "from sklearn.preprocessing import StandardScaler\n",
        "scaler = StandardScaler()\n",
        "dummy = scaler.fit_transform(num_data)\n",
        "dummyy=pd.DataFrame(dummy,columns=[\"age\",\"balance\",\"day\",\"duration\",\"campaign\",\"pdays\",\"previous\"])\n",
        "dummyy"
      ]
    },
    {
      "cell_type": "markdown",
      "metadata": {
        "id": "2iNgg3SEBhWP"
      },
      "source": [
        "# **Creating dummies of categorical data**"
      ]
    },
    {
      "cell_type": "code",
      "execution_count": 16,
      "metadata": {
        "colab": {
          "base_uri": "https://localhost:8080/",
          "height": 423
        },
        "id": "l3lWLWA29SLs",
        "outputId": "8ebaab51-91e2-4399-f88e-df6df2b60807"
      },
      "outputs": [
        {
          "data": {
            "text/html": [
              "<div>\n",
              "<style scoped>\n",
              "    .dataframe tbody tr th:only-of-type {\n",
              "        vertical-align: middle;\n",
              "    }\n",
              "\n",
              "    .dataframe tbody tr th {\n",
              "        vertical-align: top;\n",
              "    }\n",
              "\n",
              "    .dataframe thead th {\n",
              "        text-align: right;\n",
              "    }\n",
              "</style>\n",
              "<table border=\"1\" class=\"dataframe\">\n",
              "  <thead>\n",
              "    <tr style=\"text-align: right;\">\n",
              "      <th></th>\n",
              "      <th>age</th>\n",
              "      <th>balance</th>\n",
              "      <th>day</th>\n",
              "      <th>duration</th>\n",
              "      <th>campaign</th>\n",
              "      <th>pdays</th>\n",
              "      <th>previous</th>\n",
              "      <th>marital</th>\n",
              "      <th>education</th>\n",
              "      <th>job</th>\n",
              "      <th>month</th>\n",
              "      <th>poutcome</th>\n",
              "      <th>contact</th>\n",
              "    </tr>\n",
              "  </thead>\n",
              "  <tbody>\n",
              "    <tr>\n",
              "      <th>0</th>\n",
              "      <td>1.606965</td>\n",
              "      <td>0.256419</td>\n",
              "      <td>-1.298476</td>\n",
              "      <td>0.011016</td>\n",
              "      <td>-0.569351</td>\n",
              "      <td>-0.411453</td>\n",
              "      <td>-0.251940</td>\n",
              "      <td>married</td>\n",
              "      <td>tertiary</td>\n",
              "      <td>management</td>\n",
              "      <td>may</td>\n",
              "      <td>unknown</td>\n",
              "      <td>unknown</td>\n",
              "    </tr>\n",
              "    <tr>\n",
              "      <th>1</th>\n",
              "      <td>0.288529</td>\n",
              "      <td>-0.437895</td>\n",
              "      <td>-1.298476</td>\n",
              "      <td>-0.416127</td>\n",
              "      <td>-0.569351</td>\n",
              "      <td>-0.411453</td>\n",
              "      <td>-0.251940</td>\n",
              "      <td>single</td>\n",
              "      <td>secondary</td>\n",
              "      <td>technician</td>\n",
              "      <td>may</td>\n",
              "      <td>unknown</td>\n",
              "      <td>unknown</td>\n",
              "    </tr>\n",
              "    <tr>\n",
              "      <th>2</th>\n",
              "      <td>-0.747384</td>\n",
              "      <td>-0.446762</td>\n",
              "      <td>-1.298476</td>\n",
              "      <td>-0.707361</td>\n",
              "      <td>-0.569351</td>\n",
              "      <td>-0.411453</td>\n",
              "      <td>-0.251940</td>\n",
              "      <td>married</td>\n",
              "      <td>secondary</td>\n",
              "      <td>entrepreneur</td>\n",
              "      <td>may</td>\n",
              "      <td>unknown</td>\n",
              "      <td>unknown</td>\n",
              "    </tr>\n",
              "    <tr>\n",
              "      <th>3</th>\n",
              "      <td>0.571051</td>\n",
              "      <td>0.047205</td>\n",
              "      <td>-1.298476</td>\n",
              "      <td>-0.645231</td>\n",
              "      <td>-0.569351</td>\n",
              "      <td>-0.411453</td>\n",
              "      <td>-0.251940</td>\n",
              "      <td>married</td>\n",
              "      <td>unknown</td>\n",
              "      <td>blue-collar</td>\n",
              "      <td>may</td>\n",
              "      <td>unknown</td>\n",
              "      <td>unknown</td>\n",
              "    </tr>\n",
              "    <tr>\n",
              "      <th>4</th>\n",
              "      <td>-0.747384</td>\n",
              "      <td>-0.447091</td>\n",
              "      <td>-1.298476</td>\n",
              "      <td>-0.233620</td>\n",
              "      <td>-0.569351</td>\n",
              "      <td>-0.411453</td>\n",
              "      <td>-0.251940</td>\n",
              "      <td>single</td>\n",
              "      <td>unknown</td>\n",
              "      <td>unknown</td>\n",
              "      <td>may</td>\n",
              "      <td>unknown</td>\n",
              "      <td>unknown</td>\n",
              "    </tr>\n",
              "    <tr>\n",
              "      <th>...</th>\n",
              "      <td>...</td>\n",
              "      <td>...</td>\n",
              "      <td>...</td>\n",
              "      <td>...</td>\n",
              "      <td>...</td>\n",
              "      <td>...</td>\n",
              "      <td>...</td>\n",
              "      <td>...</td>\n",
              "      <td>...</td>\n",
              "      <td>...</td>\n",
              "      <td>...</td>\n",
              "      <td>...</td>\n",
              "      <td>...</td>\n",
              "    </tr>\n",
              "    <tr>\n",
              "      <th>45206</th>\n",
              "      <td>0.947747</td>\n",
              "      <td>-0.176460</td>\n",
              "      <td>0.143418</td>\n",
              "      <td>2.791329</td>\n",
              "      <td>0.076230</td>\n",
              "      <td>-0.411453</td>\n",
              "      <td>-0.251940</td>\n",
              "      <td>married</td>\n",
              "      <td>tertiary</td>\n",
              "      <td>technician</td>\n",
              "      <td>nov</td>\n",
              "      <td>unknown</td>\n",
              "      <td>cellular</td>\n",
              "    </tr>\n",
              "    <tr>\n",
              "      <th>45207</th>\n",
              "      <td>2.831227</td>\n",
              "      <td>0.120447</td>\n",
              "      <td>0.143418</td>\n",
              "      <td>0.768224</td>\n",
              "      <td>-0.246560</td>\n",
              "      <td>-0.411453</td>\n",
              "      <td>-0.251940</td>\n",
              "      <td>divorced</td>\n",
              "      <td>primary</td>\n",
              "      <td>retired</td>\n",
              "      <td>nov</td>\n",
              "      <td>unknown</td>\n",
              "      <td>cellular</td>\n",
              "    </tr>\n",
              "    <tr>\n",
              "      <th>45208</th>\n",
              "      <td>2.925401</td>\n",
              "      <td>1.429593</td>\n",
              "      <td>0.143418</td>\n",
              "      <td>3.373797</td>\n",
              "      <td>0.721811</td>\n",
              "      <td>1.436189</td>\n",
              "      <td>1.050473</td>\n",
              "      <td>married</td>\n",
              "      <td>secondary</td>\n",
              "      <td>retired</td>\n",
              "      <td>nov</td>\n",
              "      <td>success</td>\n",
              "      <td>cellular</td>\n",
              "    </tr>\n",
              "    <tr>\n",
              "      <th>45209</th>\n",
              "      <td>1.512791</td>\n",
              "      <td>-0.228024</td>\n",
              "      <td>0.143418</td>\n",
              "      <td>0.970146</td>\n",
              "      <td>0.399020</td>\n",
              "      <td>-0.411453</td>\n",
              "      <td>-0.251940</td>\n",
              "      <td>married</td>\n",
              "      <td>secondary</td>\n",
              "      <td>blue-collar</td>\n",
              "      <td>nov</td>\n",
              "      <td>unknown</td>\n",
              "      <td>telephone</td>\n",
              "    </tr>\n",
              "    <tr>\n",
              "      <th>45210</th>\n",
              "      <td>-0.370689</td>\n",
              "      <td>0.528364</td>\n",
              "      <td>0.143418</td>\n",
              "      <td>0.399328</td>\n",
              "      <td>-0.246560</td>\n",
              "      <td>1.476138</td>\n",
              "      <td>4.523577</td>\n",
              "      <td>married</td>\n",
              "      <td>secondary</td>\n",
              "      <td>entrepreneur</td>\n",
              "      <td>nov</td>\n",
              "      <td>other</td>\n",
              "      <td>cellular</td>\n",
              "    </tr>\n",
              "  </tbody>\n",
              "</table>\n",
              "<p>45211 rows × 13 columns</p>\n",
              "</div>"
            ],
            "text/plain": [
              "            age   balance       day  duration  campaign     pdays  previous  \\\n",
              "0      1.606965  0.256419 -1.298476  0.011016 -0.569351 -0.411453 -0.251940   \n",
              "1      0.288529 -0.437895 -1.298476 -0.416127 -0.569351 -0.411453 -0.251940   \n",
              "2     -0.747384 -0.446762 -1.298476 -0.707361 -0.569351 -0.411453 -0.251940   \n",
              "3      0.571051  0.047205 -1.298476 -0.645231 -0.569351 -0.411453 -0.251940   \n",
              "4     -0.747384 -0.447091 -1.298476 -0.233620 -0.569351 -0.411453 -0.251940   \n",
              "...         ...       ...       ...       ...       ...       ...       ...   \n",
              "45206  0.947747 -0.176460  0.143418  2.791329  0.076230 -0.411453 -0.251940   \n",
              "45207  2.831227  0.120447  0.143418  0.768224 -0.246560 -0.411453 -0.251940   \n",
              "45208  2.925401  1.429593  0.143418  3.373797  0.721811  1.436189  1.050473   \n",
              "45209  1.512791 -0.228024  0.143418  0.970146  0.399020 -0.411453 -0.251940   \n",
              "45210 -0.370689  0.528364  0.143418  0.399328 -0.246560  1.476138  4.523577   \n",
              "\n",
              "        marital  education           job month poutcome    contact  \n",
              "0       married   tertiary    management   may  unknown    unknown  \n",
              "1        single  secondary    technician   may  unknown    unknown  \n",
              "2       married  secondary  entrepreneur   may  unknown    unknown  \n",
              "3       married    unknown   blue-collar   may  unknown    unknown  \n",
              "4        single    unknown       unknown   may  unknown    unknown  \n",
              "...         ...        ...           ...   ...      ...        ...  \n",
              "45206   married   tertiary    technician   nov  unknown   cellular  \n",
              "45207  divorced    primary       retired   nov  unknown   cellular  \n",
              "45208   married  secondary       retired   nov  success   cellular  \n",
              "45209   married  secondary   blue-collar   nov  unknown  telephone  \n",
              "45210   married  secondary  entrepreneur   nov    other   cellular  \n",
              "\n",
              "[45211 rows x 13 columns]"
            ]
          },
          "execution_count": 16,
          "metadata": {},
          "output_type": "execute_result"
        }
      ],
      "source": [
        "dummyy2=pd.get_dummies(df,columns=[\"marital\",\"education\",\"job\",\"month\",\"poutcome\",\"contact\"])\n",
        "dummyy[[\"marital\",\"education\",\"job\",\"month\",\"poutcome\",\"contact\"]]=df[[\"marital\",\"education\",\"job\",\"month\",\"poutcome\",\"contact\"]]\n",
        "dummyy\n"
      ]
    },
    {
      "cell_type": "code",
      "execution_count": 17,
      "metadata": {},
      "outputs": [
        {
          "data": {
            "text/html": [
              "<div>\n",
              "<style scoped>\n",
              "    .dataframe tbody tr th:only-of-type {\n",
              "        vertical-align: middle;\n",
              "    }\n",
              "\n",
              "    .dataframe tbody tr th {\n",
              "        vertical-align: top;\n",
              "    }\n",
              "\n",
              "    .dataframe thead th {\n",
              "        text-align: right;\n",
              "    }\n",
              "</style>\n",
              "<table border=\"1\" class=\"dataframe\">\n",
              "  <thead>\n",
              "    <tr style=\"text-align: right;\">\n",
              "      <th></th>\n",
              "      <th>age</th>\n",
              "      <th>balance</th>\n",
              "      <th>day</th>\n",
              "      <th>duration</th>\n",
              "      <th>campaign</th>\n",
              "      <th>pdays</th>\n",
              "      <th>previous</th>\n",
              "      <th>marital_divorced</th>\n",
              "      <th>marital_married</th>\n",
              "      <th>marital_single</th>\n",
              "      <th>...</th>\n",
              "      <th>month_nov</th>\n",
              "      <th>month_oct</th>\n",
              "      <th>month_sep</th>\n",
              "      <th>poutcome_failure</th>\n",
              "      <th>poutcome_other</th>\n",
              "      <th>poutcome_success</th>\n",
              "      <th>poutcome_unknown</th>\n",
              "      <th>contact_cellular</th>\n",
              "      <th>contact_telephone</th>\n",
              "      <th>contact_unknown</th>\n",
              "    </tr>\n",
              "  </thead>\n",
              "  <tbody>\n",
              "    <tr>\n",
              "      <th>count</th>\n",
              "      <td>45211.000000</td>\n",
              "      <td>45211.000000</td>\n",
              "      <td>45211.000000</td>\n",
              "      <td>45211.000000</td>\n",
              "      <td>45211.000000</td>\n",
              "      <td>45211.000000</td>\n",
              "      <td>45211.000000</td>\n",
              "      <td>45211.000000</td>\n",
              "      <td>45211.000000</td>\n",
              "      <td>45211.000000</td>\n",
              "      <td>...</td>\n",
              "      <td>45211.000000</td>\n",
              "      <td>45211.000000</td>\n",
              "      <td>45211.000000</td>\n",
              "      <td>45211.000000</td>\n",
              "      <td>45211.000000</td>\n",
              "      <td>45211.000000</td>\n",
              "      <td>45211.000000</td>\n",
              "      <td>45211.000000</td>\n",
              "      <td>45211.000000</td>\n",
              "      <td>45211.000000</td>\n",
              "    </tr>\n",
              "    <tr>\n",
              "      <th>mean</th>\n",
              "      <td>40.936210</td>\n",
              "      <td>1362.272058</td>\n",
              "      <td>15.806419</td>\n",
              "      <td>258.163080</td>\n",
              "      <td>2.763841</td>\n",
              "      <td>40.197828</td>\n",
              "      <td>0.580323</td>\n",
              "      <td>0.115171</td>\n",
              "      <td>0.601933</td>\n",
              "      <td>0.282896</td>\n",
              "      <td>...</td>\n",
              "      <td>0.087810</td>\n",
              "      <td>0.016323</td>\n",
              "      <td>0.012807</td>\n",
              "      <td>0.108403</td>\n",
              "      <td>0.040698</td>\n",
              "      <td>0.033421</td>\n",
              "      <td>0.817478</td>\n",
              "      <td>0.647741</td>\n",
              "      <td>0.064276</td>\n",
              "      <td>0.287983</td>\n",
              "    </tr>\n",
              "    <tr>\n",
              "      <th>std</th>\n",
              "      <td>10.618762</td>\n",
              "      <td>3044.765829</td>\n",
              "      <td>8.322476</td>\n",
              "      <td>257.527812</td>\n",
              "      <td>3.098021</td>\n",
              "      <td>100.128746</td>\n",
              "      <td>2.303441</td>\n",
              "      <td>0.319232</td>\n",
              "      <td>0.489505</td>\n",
              "      <td>0.450411</td>\n",
              "      <td>...</td>\n",
              "      <td>0.283022</td>\n",
              "      <td>0.126718</td>\n",
              "      <td>0.112441</td>\n",
              "      <td>0.310892</td>\n",
              "      <td>0.197592</td>\n",
              "      <td>0.179735</td>\n",
              "      <td>0.386278</td>\n",
              "      <td>0.477680</td>\n",
              "      <td>0.245247</td>\n",
              "      <td>0.452828</td>\n",
              "    </tr>\n",
              "    <tr>\n",
              "      <th>min</th>\n",
              "      <td>18.000000</td>\n",
              "      <td>-8019.000000</td>\n",
              "      <td>1.000000</td>\n",
              "      <td>0.000000</td>\n",
              "      <td>1.000000</td>\n",
              "      <td>-1.000000</td>\n",
              "      <td>0.000000</td>\n",
              "      <td>0.000000</td>\n",
              "      <td>0.000000</td>\n",
              "      <td>0.000000</td>\n",
              "      <td>...</td>\n",
              "      <td>0.000000</td>\n",
              "      <td>0.000000</td>\n",
              "      <td>0.000000</td>\n",
              "      <td>0.000000</td>\n",
              "      <td>0.000000</td>\n",
              "      <td>0.000000</td>\n",
              "      <td>0.000000</td>\n",
              "      <td>0.000000</td>\n",
              "      <td>0.000000</td>\n",
              "      <td>0.000000</td>\n",
              "    </tr>\n",
              "    <tr>\n",
              "      <th>25%</th>\n",
              "      <td>33.000000</td>\n",
              "      <td>72.000000</td>\n",
              "      <td>8.000000</td>\n",
              "      <td>103.000000</td>\n",
              "      <td>1.000000</td>\n",
              "      <td>-1.000000</td>\n",
              "      <td>0.000000</td>\n",
              "      <td>0.000000</td>\n",
              "      <td>0.000000</td>\n",
              "      <td>0.000000</td>\n",
              "      <td>...</td>\n",
              "      <td>0.000000</td>\n",
              "      <td>0.000000</td>\n",
              "      <td>0.000000</td>\n",
              "      <td>0.000000</td>\n",
              "      <td>0.000000</td>\n",
              "      <td>0.000000</td>\n",
              "      <td>1.000000</td>\n",
              "      <td>0.000000</td>\n",
              "      <td>0.000000</td>\n",
              "      <td>0.000000</td>\n",
              "    </tr>\n",
              "    <tr>\n",
              "      <th>50%</th>\n",
              "      <td>39.000000</td>\n",
              "      <td>448.000000</td>\n",
              "      <td>16.000000</td>\n",
              "      <td>180.000000</td>\n",
              "      <td>2.000000</td>\n",
              "      <td>-1.000000</td>\n",
              "      <td>0.000000</td>\n",
              "      <td>0.000000</td>\n",
              "      <td>1.000000</td>\n",
              "      <td>0.000000</td>\n",
              "      <td>...</td>\n",
              "      <td>0.000000</td>\n",
              "      <td>0.000000</td>\n",
              "      <td>0.000000</td>\n",
              "      <td>0.000000</td>\n",
              "      <td>0.000000</td>\n",
              "      <td>0.000000</td>\n",
              "      <td>1.000000</td>\n",
              "      <td>1.000000</td>\n",
              "      <td>0.000000</td>\n",
              "      <td>0.000000</td>\n",
              "    </tr>\n",
              "    <tr>\n",
              "      <th>75%</th>\n",
              "      <td>48.000000</td>\n",
              "      <td>1428.000000</td>\n",
              "      <td>21.000000</td>\n",
              "      <td>319.000000</td>\n",
              "      <td>3.000000</td>\n",
              "      <td>-1.000000</td>\n",
              "      <td>0.000000</td>\n",
              "      <td>0.000000</td>\n",
              "      <td>1.000000</td>\n",
              "      <td>1.000000</td>\n",
              "      <td>...</td>\n",
              "      <td>0.000000</td>\n",
              "      <td>0.000000</td>\n",
              "      <td>0.000000</td>\n",
              "      <td>0.000000</td>\n",
              "      <td>0.000000</td>\n",
              "      <td>0.000000</td>\n",
              "      <td>1.000000</td>\n",
              "      <td>1.000000</td>\n",
              "      <td>0.000000</td>\n",
              "      <td>1.000000</td>\n",
              "    </tr>\n",
              "    <tr>\n",
              "      <th>max</th>\n",
              "      <td>95.000000</td>\n",
              "      <td>102127.000000</td>\n",
              "      <td>31.000000</td>\n",
              "      <td>4918.000000</td>\n",
              "      <td>63.000000</td>\n",
              "      <td>871.000000</td>\n",
              "      <td>275.000000</td>\n",
              "      <td>1.000000</td>\n",
              "      <td>1.000000</td>\n",
              "      <td>1.000000</td>\n",
              "      <td>...</td>\n",
              "      <td>1.000000</td>\n",
              "      <td>1.000000</td>\n",
              "      <td>1.000000</td>\n",
              "      <td>1.000000</td>\n",
              "      <td>1.000000</td>\n",
              "      <td>1.000000</td>\n",
              "      <td>1.000000</td>\n",
              "      <td>1.000000</td>\n",
              "      <td>1.000000</td>\n",
              "      <td>1.000000</td>\n",
              "    </tr>\n",
              "  </tbody>\n",
              "</table>\n",
              "<p>8 rows × 45 columns</p>\n",
              "</div>"
            ],
            "text/plain": [
              "                age        balance           day      duration      campaign  \\\n",
              "count  45211.000000   45211.000000  45211.000000  45211.000000  45211.000000   \n",
              "mean      40.936210    1362.272058     15.806419    258.163080      2.763841   \n",
              "std       10.618762    3044.765829      8.322476    257.527812      3.098021   \n",
              "min       18.000000   -8019.000000      1.000000      0.000000      1.000000   \n",
              "25%       33.000000      72.000000      8.000000    103.000000      1.000000   \n",
              "50%       39.000000     448.000000     16.000000    180.000000      2.000000   \n",
              "75%       48.000000    1428.000000     21.000000    319.000000      3.000000   \n",
              "max       95.000000  102127.000000     31.000000   4918.000000     63.000000   \n",
              "\n",
              "              pdays      previous  marital_divorced  marital_married  \\\n",
              "count  45211.000000  45211.000000      45211.000000     45211.000000   \n",
              "mean      40.197828      0.580323          0.115171         0.601933   \n",
              "std      100.128746      2.303441          0.319232         0.489505   \n",
              "min       -1.000000      0.000000          0.000000         0.000000   \n",
              "25%       -1.000000      0.000000          0.000000         0.000000   \n",
              "50%       -1.000000      0.000000          0.000000         1.000000   \n",
              "75%       -1.000000      0.000000          0.000000         1.000000   \n",
              "max      871.000000    275.000000          1.000000         1.000000   \n",
              "\n",
              "       marital_single  ...     month_nov     month_oct     month_sep  \\\n",
              "count    45211.000000  ...  45211.000000  45211.000000  45211.000000   \n",
              "mean         0.282896  ...      0.087810      0.016323      0.012807   \n",
              "std          0.450411  ...      0.283022      0.126718      0.112441   \n",
              "min          0.000000  ...      0.000000      0.000000      0.000000   \n",
              "25%          0.000000  ...      0.000000      0.000000      0.000000   \n",
              "50%          0.000000  ...      0.000000      0.000000      0.000000   \n",
              "75%          1.000000  ...      0.000000      0.000000      0.000000   \n",
              "max          1.000000  ...      1.000000      1.000000      1.000000   \n",
              "\n",
              "       poutcome_failure  poutcome_other  poutcome_success  poutcome_unknown  \\\n",
              "count      45211.000000    45211.000000      45211.000000      45211.000000   \n",
              "mean           0.108403        0.040698          0.033421          0.817478   \n",
              "std            0.310892        0.197592          0.179735          0.386278   \n",
              "min            0.000000        0.000000          0.000000          0.000000   \n",
              "25%            0.000000        0.000000          0.000000          1.000000   \n",
              "50%            0.000000        0.000000          0.000000          1.000000   \n",
              "75%            0.000000        0.000000          0.000000          1.000000   \n",
              "max            1.000000        1.000000          1.000000          1.000000   \n",
              "\n",
              "       contact_cellular  contact_telephone  contact_unknown  \n",
              "count      45211.000000       45211.000000     45211.000000  \n",
              "mean           0.647741           0.064276         0.287983  \n",
              "std            0.477680           0.245247         0.452828  \n",
              "min            0.000000           0.000000         0.000000  \n",
              "25%            0.000000           0.000000         0.000000  \n",
              "50%            1.000000           0.000000         0.000000  \n",
              "75%            1.000000           0.000000         1.000000  \n",
              "max            1.000000           1.000000         1.000000  \n",
              "\n",
              "[8 rows x 45 columns]"
            ]
          },
          "execution_count": 17,
          "metadata": {},
          "output_type": "execute_result"
        }
      ],
      "source": [
        "dummyy2.describe()"
      ]
    },
    {
      "cell_type": "markdown",
      "metadata": {
        "id": "QdH0P9HXaJgA"
      },
      "source": [
        "**converting binary data into 0 and 1**"
      ]
    },
    {
      "cell_type": "code",
      "execution_count": 18,
      "metadata": {
        "id": "kuHdrI5JFpi6"
      },
      "outputs": [],
      "source": [
        "df['default']=np.where(df['default'].str.contains(\"yes\"),1,0)\n",
        "df['housing']=np.where(df['housing'].str.contains(\"yes\"),1,0)\n",
        "df['loan']=np.where(df['loan'].str.contains(\"yes\"),1,0)\n",
        "df['y']=np.where(df['y'].str.contains(\"yes\"),1,0)\n"
      ]
    },
    {
      "cell_type": "code",
      "execution_count": 19,
      "metadata": {
        "colab": {
          "base_uri": "https://localhost:8080/",
          "height": 206
        },
        "id": "okiDymr6Y2JH",
        "outputId": "8ae3e274-c913-441e-f5ee-3bafa16f4e86"
      },
      "outputs": [
        {
          "data": {
            "text/html": [
              "<div>\n",
              "<style scoped>\n",
              "    .dataframe tbody tr th:only-of-type {\n",
              "        vertical-align: middle;\n",
              "    }\n",
              "\n",
              "    .dataframe tbody tr th {\n",
              "        vertical-align: top;\n",
              "    }\n",
              "\n",
              "    .dataframe thead th {\n",
              "        text-align: right;\n",
              "    }\n",
              "</style>\n",
              "<table border=\"1\" class=\"dataframe\">\n",
              "  <thead>\n",
              "    <tr style=\"text-align: right;\">\n",
              "      <th></th>\n",
              "      <th>age</th>\n",
              "      <th>balance</th>\n",
              "      <th>day</th>\n",
              "      <th>duration</th>\n",
              "      <th>campaign</th>\n",
              "      <th>pdays</th>\n",
              "      <th>previous</th>\n",
              "      <th>marital</th>\n",
              "      <th>education</th>\n",
              "      <th>job</th>\n",
              "      <th>month</th>\n",
              "      <th>poutcome</th>\n",
              "      <th>contact</th>\n",
              "      <th>default</th>\n",
              "      <th>housing</th>\n",
              "      <th>loan</th>\n",
              "      <th>y</th>\n",
              "    </tr>\n",
              "  </thead>\n",
              "  <tbody>\n",
              "    <tr>\n",
              "      <th>0</th>\n",
              "      <td>1.606965</td>\n",
              "      <td>0.256419</td>\n",
              "      <td>-1.298476</td>\n",
              "      <td>0.011016</td>\n",
              "      <td>-0.569351</td>\n",
              "      <td>-0.411453</td>\n",
              "      <td>-0.25194</td>\n",
              "      <td>married</td>\n",
              "      <td>tertiary</td>\n",
              "      <td>management</td>\n",
              "      <td>may</td>\n",
              "      <td>unknown</td>\n",
              "      <td>unknown</td>\n",
              "      <td>0</td>\n",
              "      <td>1</td>\n",
              "      <td>0</td>\n",
              "      <td>0</td>\n",
              "    </tr>\n",
              "    <tr>\n",
              "      <th>1</th>\n",
              "      <td>0.288529</td>\n",
              "      <td>-0.437895</td>\n",
              "      <td>-1.298476</td>\n",
              "      <td>-0.416127</td>\n",
              "      <td>-0.569351</td>\n",
              "      <td>-0.411453</td>\n",
              "      <td>-0.25194</td>\n",
              "      <td>single</td>\n",
              "      <td>secondary</td>\n",
              "      <td>technician</td>\n",
              "      <td>may</td>\n",
              "      <td>unknown</td>\n",
              "      <td>unknown</td>\n",
              "      <td>0</td>\n",
              "      <td>1</td>\n",
              "      <td>0</td>\n",
              "      <td>0</td>\n",
              "    </tr>\n",
              "    <tr>\n",
              "      <th>2</th>\n",
              "      <td>-0.747384</td>\n",
              "      <td>-0.446762</td>\n",
              "      <td>-1.298476</td>\n",
              "      <td>-0.707361</td>\n",
              "      <td>-0.569351</td>\n",
              "      <td>-0.411453</td>\n",
              "      <td>-0.25194</td>\n",
              "      <td>married</td>\n",
              "      <td>secondary</td>\n",
              "      <td>entrepreneur</td>\n",
              "      <td>may</td>\n",
              "      <td>unknown</td>\n",
              "      <td>unknown</td>\n",
              "      <td>0</td>\n",
              "      <td>1</td>\n",
              "      <td>1</td>\n",
              "      <td>0</td>\n",
              "    </tr>\n",
              "    <tr>\n",
              "      <th>3</th>\n",
              "      <td>0.571051</td>\n",
              "      <td>0.047205</td>\n",
              "      <td>-1.298476</td>\n",
              "      <td>-0.645231</td>\n",
              "      <td>-0.569351</td>\n",
              "      <td>-0.411453</td>\n",
              "      <td>-0.25194</td>\n",
              "      <td>married</td>\n",
              "      <td>unknown</td>\n",
              "      <td>blue-collar</td>\n",
              "      <td>may</td>\n",
              "      <td>unknown</td>\n",
              "      <td>unknown</td>\n",
              "      <td>0</td>\n",
              "      <td>1</td>\n",
              "      <td>0</td>\n",
              "      <td>0</td>\n",
              "    </tr>\n",
              "    <tr>\n",
              "      <th>4</th>\n",
              "      <td>-0.747384</td>\n",
              "      <td>-0.447091</td>\n",
              "      <td>-1.298476</td>\n",
              "      <td>-0.233620</td>\n",
              "      <td>-0.569351</td>\n",
              "      <td>-0.411453</td>\n",
              "      <td>-0.25194</td>\n",
              "      <td>single</td>\n",
              "      <td>unknown</td>\n",
              "      <td>unknown</td>\n",
              "      <td>may</td>\n",
              "      <td>unknown</td>\n",
              "      <td>unknown</td>\n",
              "      <td>0</td>\n",
              "      <td>0</td>\n",
              "      <td>0</td>\n",
              "      <td>0</td>\n",
              "    </tr>\n",
              "  </tbody>\n",
              "</table>\n",
              "</div>"
            ],
            "text/plain": [
              "        age   balance       day  duration  campaign     pdays  previous  \\\n",
              "0  1.606965  0.256419 -1.298476  0.011016 -0.569351 -0.411453  -0.25194   \n",
              "1  0.288529 -0.437895 -1.298476 -0.416127 -0.569351 -0.411453  -0.25194   \n",
              "2 -0.747384 -0.446762 -1.298476 -0.707361 -0.569351 -0.411453  -0.25194   \n",
              "3  0.571051  0.047205 -1.298476 -0.645231 -0.569351 -0.411453  -0.25194   \n",
              "4 -0.747384 -0.447091 -1.298476 -0.233620 -0.569351 -0.411453  -0.25194   \n",
              "\n",
              "   marital  education           job month poutcome  contact  default  housing  \\\n",
              "0  married   tertiary    management   may  unknown  unknown        0        1   \n",
              "1   single  secondary    technician   may  unknown  unknown        0        1   \n",
              "2  married  secondary  entrepreneur   may  unknown  unknown        0        1   \n",
              "3  married    unknown   blue-collar   may  unknown  unknown        0        1   \n",
              "4   single    unknown       unknown   may  unknown  unknown        0        0   \n",
              "\n",
              "   loan  y  \n",
              "0     0  0  \n",
              "1     0  0  \n",
              "2     1  0  \n",
              "3     0  0  \n",
              "4     0  0  "
            ]
          },
          "execution_count": 19,
          "metadata": {},
          "output_type": "execute_result"
        }
      ],
      "source": [
        "dummyy[[\"default\",\"housing\",\"loan\",\"y\"]]=df[[\"default\",\"housing\",\"loan\",\"y\"]]\n",
        "dummyy.head()                    "
      ]
    },
    {
      "cell_type": "code",
      "execution_count": 20,
      "metadata": {
        "colab": {
          "base_uri": "https://localhost:8080/"
        },
        "id": "AQ5Q1gmuGgir",
        "outputId": "e414a781-b831-46ba-bfd1-5362703e7629"
      },
      "outputs": [
        {
          "data": {
            "text/plain": [
              "(45211, 17)"
            ]
          },
          "execution_count": 20,
          "metadata": {},
          "output_type": "execute_result"
        }
      ],
      "source": [
        "dummyy.shape"
      ]
    },
    {
      "cell_type": "markdown",
      "metadata": {
        "id": "-Fzc02csZd8T"
      },
      "source": [
        "**Creating dummies of categorical columns from data set**"
      ]
    },
    {
      "cell_type": "code",
      "execution_count": 21,
      "metadata": {
        "id": "AbspitGEZoMt"
      },
      "outputs": [],
      "source": [
        "dummyy=pd.get_dummies(dummyy,columns=[\"marital\",\"education\",\"job\",\"month\",\"poutcome\",\"contact\"])\n"
      ]
    },
    {
      "cell_type": "code",
      "execution_count": 22,
      "metadata": {
        "colab": {
          "base_uri": "https://localhost:8080/"
        },
        "id": "5XszcpE1GsBE",
        "outputId": "c35c5e02-c372-469b-a2a8-23c22025f202"
      },
      "outputs": [
        {
          "data": {
            "text/plain": [
              "(45211, 49)"
            ]
          },
          "execution_count": 22,
          "metadata": {},
          "output_type": "execute_result"
        }
      ],
      "source": [
        "dummyy.shape"
      ]
    },
    {
      "cell_type": "code",
      "execution_count": 23,
      "metadata": {},
      "outputs": [
        {
          "data": {
            "text/html": [
              "<div>\n",
              "<style scoped>\n",
              "    .dataframe tbody tr th:only-of-type {\n",
              "        vertical-align: middle;\n",
              "    }\n",
              "\n",
              "    .dataframe tbody tr th {\n",
              "        vertical-align: top;\n",
              "    }\n",
              "\n",
              "    .dataframe thead th {\n",
              "        text-align: right;\n",
              "    }\n",
              "</style>\n",
              "<table border=\"1\" class=\"dataframe\">\n",
              "  <thead>\n",
              "    <tr style=\"text-align: right;\">\n",
              "      <th></th>\n",
              "      <th>age</th>\n",
              "      <th>balance</th>\n",
              "      <th>day</th>\n",
              "      <th>duration</th>\n",
              "      <th>campaign</th>\n",
              "      <th>pdays</th>\n",
              "      <th>previous</th>\n",
              "      <th>default</th>\n",
              "      <th>housing</th>\n",
              "      <th>loan</th>\n",
              "      <th>...</th>\n",
              "      <th>month_nov</th>\n",
              "      <th>month_oct</th>\n",
              "      <th>month_sep</th>\n",
              "      <th>poutcome_failure</th>\n",
              "      <th>poutcome_other</th>\n",
              "      <th>poutcome_success</th>\n",
              "      <th>poutcome_unknown</th>\n",
              "      <th>contact_cellular</th>\n",
              "      <th>contact_telephone</th>\n",
              "      <th>contact_unknown</th>\n",
              "    </tr>\n",
              "  </thead>\n",
              "  <tbody>\n",
              "    <tr>\n",
              "      <th>0</th>\n",
              "      <td>1.606965</td>\n",
              "      <td>0.256419</td>\n",
              "      <td>-1.298476</td>\n",
              "      <td>0.011016</td>\n",
              "      <td>-0.569351</td>\n",
              "      <td>-0.411453</td>\n",
              "      <td>-0.25194</td>\n",
              "      <td>0</td>\n",
              "      <td>1</td>\n",
              "      <td>0</td>\n",
              "      <td>...</td>\n",
              "      <td>0</td>\n",
              "      <td>0</td>\n",
              "      <td>0</td>\n",
              "      <td>0</td>\n",
              "      <td>0</td>\n",
              "      <td>0</td>\n",
              "      <td>1</td>\n",
              "      <td>0</td>\n",
              "      <td>0</td>\n",
              "      <td>1</td>\n",
              "    </tr>\n",
              "    <tr>\n",
              "      <th>1</th>\n",
              "      <td>0.288529</td>\n",
              "      <td>-0.437895</td>\n",
              "      <td>-1.298476</td>\n",
              "      <td>-0.416127</td>\n",
              "      <td>-0.569351</td>\n",
              "      <td>-0.411453</td>\n",
              "      <td>-0.25194</td>\n",
              "      <td>0</td>\n",
              "      <td>1</td>\n",
              "      <td>0</td>\n",
              "      <td>...</td>\n",
              "      <td>0</td>\n",
              "      <td>0</td>\n",
              "      <td>0</td>\n",
              "      <td>0</td>\n",
              "      <td>0</td>\n",
              "      <td>0</td>\n",
              "      <td>1</td>\n",
              "      <td>0</td>\n",
              "      <td>0</td>\n",
              "      <td>1</td>\n",
              "    </tr>\n",
              "    <tr>\n",
              "      <th>2</th>\n",
              "      <td>-0.747384</td>\n",
              "      <td>-0.446762</td>\n",
              "      <td>-1.298476</td>\n",
              "      <td>-0.707361</td>\n",
              "      <td>-0.569351</td>\n",
              "      <td>-0.411453</td>\n",
              "      <td>-0.25194</td>\n",
              "      <td>0</td>\n",
              "      <td>1</td>\n",
              "      <td>1</td>\n",
              "      <td>...</td>\n",
              "      <td>0</td>\n",
              "      <td>0</td>\n",
              "      <td>0</td>\n",
              "      <td>0</td>\n",
              "      <td>0</td>\n",
              "      <td>0</td>\n",
              "      <td>1</td>\n",
              "      <td>0</td>\n",
              "      <td>0</td>\n",
              "      <td>1</td>\n",
              "    </tr>\n",
              "    <tr>\n",
              "      <th>3</th>\n",
              "      <td>0.571051</td>\n",
              "      <td>0.047205</td>\n",
              "      <td>-1.298476</td>\n",
              "      <td>-0.645231</td>\n",
              "      <td>-0.569351</td>\n",
              "      <td>-0.411453</td>\n",
              "      <td>-0.25194</td>\n",
              "      <td>0</td>\n",
              "      <td>1</td>\n",
              "      <td>0</td>\n",
              "      <td>...</td>\n",
              "      <td>0</td>\n",
              "      <td>0</td>\n",
              "      <td>0</td>\n",
              "      <td>0</td>\n",
              "      <td>0</td>\n",
              "      <td>0</td>\n",
              "      <td>1</td>\n",
              "      <td>0</td>\n",
              "      <td>0</td>\n",
              "      <td>1</td>\n",
              "    </tr>\n",
              "    <tr>\n",
              "      <th>4</th>\n",
              "      <td>-0.747384</td>\n",
              "      <td>-0.447091</td>\n",
              "      <td>-1.298476</td>\n",
              "      <td>-0.233620</td>\n",
              "      <td>-0.569351</td>\n",
              "      <td>-0.411453</td>\n",
              "      <td>-0.25194</td>\n",
              "      <td>0</td>\n",
              "      <td>0</td>\n",
              "      <td>0</td>\n",
              "      <td>...</td>\n",
              "      <td>0</td>\n",
              "      <td>0</td>\n",
              "      <td>0</td>\n",
              "      <td>0</td>\n",
              "      <td>0</td>\n",
              "      <td>0</td>\n",
              "      <td>1</td>\n",
              "      <td>0</td>\n",
              "      <td>0</td>\n",
              "      <td>1</td>\n",
              "    </tr>\n",
              "  </tbody>\n",
              "</table>\n",
              "<p>5 rows × 49 columns</p>\n",
              "</div>"
            ],
            "text/plain": [
              "        age   balance       day  duration  campaign     pdays  previous  \\\n",
              "0  1.606965  0.256419 -1.298476  0.011016 -0.569351 -0.411453  -0.25194   \n",
              "1  0.288529 -0.437895 -1.298476 -0.416127 -0.569351 -0.411453  -0.25194   \n",
              "2 -0.747384 -0.446762 -1.298476 -0.707361 -0.569351 -0.411453  -0.25194   \n",
              "3  0.571051  0.047205 -1.298476 -0.645231 -0.569351 -0.411453  -0.25194   \n",
              "4 -0.747384 -0.447091 -1.298476 -0.233620 -0.569351 -0.411453  -0.25194   \n",
              "\n",
              "   default  housing  loan  ...  month_nov  month_oct  month_sep  \\\n",
              "0        0        1     0  ...          0          0          0   \n",
              "1        0        1     0  ...          0          0          0   \n",
              "2        0        1     1  ...          0          0          0   \n",
              "3        0        1     0  ...          0          0          0   \n",
              "4        0        0     0  ...          0          0          0   \n",
              "\n",
              "   poutcome_failure  poutcome_other  poutcome_success  poutcome_unknown  \\\n",
              "0                 0               0                 0                 1   \n",
              "1                 0               0                 0                 1   \n",
              "2                 0               0                 0                 1   \n",
              "3                 0               0                 0                 1   \n",
              "4                 0               0                 0                 1   \n",
              "\n",
              "   contact_cellular  contact_telephone  contact_unknown  \n",
              "0                 0                  0                1  \n",
              "1                 0                  0                1  \n",
              "2                 0                  0                1  \n",
              "3                 0                  0                1  \n",
              "4                 0                  0                1  \n",
              "\n",
              "[5 rows x 49 columns]"
            ]
          },
          "execution_count": 23,
          "metadata": {},
          "output_type": "execute_result"
        }
      ],
      "source": [
        "dummyy.head()"
      ]
    },
    {
      "cell_type": "code",
      "execution_count": 24,
      "metadata": {},
      "outputs": [
        {
          "name": "stdout",
          "output_type": "stream",
          "text": [
            "<class 'pandas.core.frame.DataFrame'>\n",
            "RangeIndex: 45211 entries, 0 to 45210\n",
            "Data columns (total 49 columns):\n",
            " #   Column               Non-Null Count  Dtype  \n",
            "---  ------               --------------  -----  \n",
            " 0   age                  45211 non-null  float64\n",
            " 1   balance              45211 non-null  float64\n",
            " 2   day                  45211 non-null  float64\n",
            " 3   duration             45211 non-null  float64\n",
            " 4   campaign             45211 non-null  float64\n",
            " 5   pdays                45211 non-null  float64\n",
            " 6   previous             45211 non-null  float64\n",
            " 7   default              45211 non-null  int32  \n",
            " 8   housing              45211 non-null  int32  \n",
            " 9   loan                 45211 non-null  int32  \n",
            " 10  y                    45211 non-null  int32  \n",
            " 11  marital_divorced     45211 non-null  uint8  \n",
            " 12  marital_married      45211 non-null  uint8  \n",
            " 13  marital_single       45211 non-null  uint8  \n",
            " 14  education_primary    45211 non-null  uint8  \n",
            " 15  education_secondary  45211 non-null  uint8  \n",
            " 16  education_tertiary   45211 non-null  uint8  \n",
            " 17  education_unknown    45211 non-null  uint8  \n",
            " 18  job_admin.           45211 non-null  uint8  \n",
            " 19  job_blue-collar      45211 non-null  uint8  \n",
            " 20  job_entrepreneur     45211 non-null  uint8  \n",
            " 21  job_housemaid        45211 non-null  uint8  \n",
            " 22  job_management       45211 non-null  uint8  \n",
            " 23  job_retired          45211 non-null  uint8  \n",
            " 24  job_self-employed    45211 non-null  uint8  \n",
            " 25  job_services         45211 non-null  uint8  \n",
            " 26  job_student          45211 non-null  uint8  \n",
            " 27  job_technician       45211 non-null  uint8  \n",
            " 28  job_unemployed       45211 non-null  uint8  \n",
            " 29  job_unknown          45211 non-null  uint8  \n",
            " 30  month_apr            45211 non-null  uint8  \n",
            " 31  month_aug            45211 non-null  uint8  \n",
            " 32  month_dec            45211 non-null  uint8  \n",
            " 33  month_feb            45211 non-null  uint8  \n",
            " 34  month_jan            45211 non-null  uint8  \n",
            " 35  month_jul            45211 non-null  uint8  \n",
            " 36  month_jun            45211 non-null  uint8  \n",
            " 37  month_mar            45211 non-null  uint8  \n",
            " 38  month_may            45211 non-null  uint8  \n",
            " 39  month_nov            45211 non-null  uint8  \n",
            " 40  month_oct            45211 non-null  uint8  \n",
            " 41  month_sep            45211 non-null  uint8  \n",
            " 42  poutcome_failure     45211 non-null  uint8  \n",
            " 43  poutcome_other       45211 non-null  uint8  \n",
            " 44  poutcome_success     45211 non-null  uint8  \n",
            " 45  poutcome_unknown     45211 non-null  uint8  \n",
            " 46  contact_cellular     45211 non-null  uint8  \n",
            " 47  contact_telephone    45211 non-null  uint8  \n",
            " 48  contact_unknown      45211 non-null  uint8  \n",
            "dtypes: float64(7), int32(4), uint8(38)\n",
            "memory usage: 4.7 MB\n"
          ]
        }
      ],
      "source": [
        "dummyy.info()"
      ]
    },
    {
      "cell_type": "markdown",
      "metadata": {
        "id": "rVWZEWllargw"
      },
      "source": [
        "**seprating data into x and y**"
      ]
    },
    {
      "cell_type": "code",
      "execution_count": 25,
      "metadata": {
        "id": "RUiugZbHaqYz"
      },
      "outputs": [],
      "source": [
        "y=dummyy[\"y\"]"
      ]
    },
    {
      "cell_type": "code",
      "execution_count": 26,
      "metadata": {
        "id": "nRW9UBX_IFse"
      },
      "outputs": [],
      "source": [
        "del dummyy[\"y\"]   #deleting y varible from dummy and storing into x\n",
        "x=dummyy"
      ]
    },
    {
      "cell_type": "code",
      "execution_count": 27,
      "metadata": {
        "colab": {
          "base_uri": "https://localhost:8080/"
        },
        "id": "KLH4Nfc3Ib6I",
        "outputId": "4b0453e0-e21a-4917-ca40-23e14c62925c"
      },
      "outputs": [
        {
          "name": "stderr",
          "output_type": "stream",
          "text": [
            "C:\\Users\\evilb\\AppData\\Local\\Programs\\Python\\Python39\\lib\\site-packages\\sklearn\\linear_model\\_logistic.py:814: ConvergenceWarning: lbfgs failed to converge (status=1):\n",
            "STOP: TOTAL NO. of ITERATIONS REACHED LIMIT.\n",
            "\n",
            "Increase the number of iterations (max_iter) or scale the data as shown in:\n",
            "    https://scikit-learn.org/stable/modules/preprocessing.html\n",
            "Please also refer to the documentation for alternative solver options:\n",
            "    https://scikit-learn.org/stable/modules/linear_model.html#logistic-regression\n",
            "  n_iter_i = _check_optimize_result(\n"
          ]
        },
        {
          "data": {
            "text/plain": [
              "LogisticRegression()"
            ]
          },
          "execution_count": 27,
          "metadata": {},
          "output_type": "execute_result"
        }
      ],
      "source": [
        "from sklearn.linear_model import LogisticRegression\n",
        "cl=LogisticRegression()\n",
        "cl.fit(x,y)\n"
      ]
    },
    {
      "cell_type": "code",
      "execution_count": 28,
      "metadata": {
        "colab": {
          "base_uri": "https://localhost:8080/"
        },
        "id": "tMD05-NCIz5x",
        "outputId": "790dda3f-3bb6-4ba6-9ef7-518976432c6c"
      },
      "outputs": [
        {
          "data": {
            "text/plain": [
              "array([0, 0, 0, ..., 1, 0, 0])"
            ]
          },
          "execution_count": 28,
          "metadata": {},
          "output_type": "execute_result"
        }
      ],
      "source": [
        "predicted_data=cl.predict(x)\n",
        "predicted_data"
      ]
    },
    {
      "cell_type": "code",
      "execution_count": 29,
      "metadata": {
        "colab": {
          "base_uri": "https://localhost:8080/",
          "height": 423
        },
        "id": "glqaEJMRJKGZ",
        "outputId": "5718edfc-764d-4aa3-d599-d9feadb565f4"
      },
      "outputs": [
        {
          "data": {
            "text/html": [
              "<div>\n",
              "<style scoped>\n",
              "    .dataframe tbody tr th:only-of-type {\n",
              "        vertical-align: middle;\n",
              "    }\n",
              "\n",
              "    .dataframe tbody tr th {\n",
              "        vertical-align: top;\n",
              "    }\n",
              "\n",
              "    .dataframe thead th {\n",
              "        text-align: right;\n",
              "    }\n",
              "</style>\n",
              "<table border=\"1\" class=\"dataframe\">\n",
              "  <thead>\n",
              "    <tr style=\"text-align: right;\">\n",
              "      <th></th>\n",
              "      <th>actual</th>\n",
              "      <th>predicted_prob</th>\n",
              "    </tr>\n",
              "  </thead>\n",
              "  <tbody>\n",
              "    <tr>\n",
              "      <th>0</th>\n",
              "      <td>0</td>\n",
              "      <td>0</td>\n",
              "    </tr>\n",
              "    <tr>\n",
              "      <th>1</th>\n",
              "      <td>0</td>\n",
              "      <td>0</td>\n",
              "    </tr>\n",
              "    <tr>\n",
              "      <th>2</th>\n",
              "      <td>0</td>\n",
              "      <td>0</td>\n",
              "    </tr>\n",
              "    <tr>\n",
              "      <th>3</th>\n",
              "      <td>0</td>\n",
              "      <td>0</td>\n",
              "    </tr>\n",
              "    <tr>\n",
              "      <th>4</th>\n",
              "      <td>0</td>\n",
              "      <td>0</td>\n",
              "    </tr>\n",
              "    <tr>\n",
              "      <th>...</th>\n",
              "      <td>...</td>\n",
              "      <td>...</td>\n",
              "    </tr>\n",
              "    <tr>\n",
              "      <th>45206</th>\n",
              "      <td>1</td>\n",
              "      <td>1</td>\n",
              "    </tr>\n",
              "    <tr>\n",
              "      <th>45207</th>\n",
              "      <td>1</td>\n",
              "      <td>0</td>\n",
              "    </tr>\n",
              "    <tr>\n",
              "      <th>45208</th>\n",
              "      <td>1</td>\n",
              "      <td>1</td>\n",
              "    </tr>\n",
              "    <tr>\n",
              "      <th>45209</th>\n",
              "      <td>0</td>\n",
              "      <td>0</td>\n",
              "    </tr>\n",
              "    <tr>\n",
              "      <th>45210</th>\n",
              "      <td>0</td>\n",
              "      <td>0</td>\n",
              "    </tr>\n",
              "  </tbody>\n",
              "</table>\n",
              "<p>45211 rows × 2 columns</p>\n",
              "</div>"
            ],
            "text/plain": [
              "       actual  predicted_prob\n",
              "0           0               0\n",
              "1           0               0\n",
              "2           0               0\n",
              "3           0               0\n",
              "4           0               0\n",
              "...       ...             ...\n",
              "45206       1               1\n",
              "45207       1               0\n",
              "45208       1               1\n",
              "45209       0               0\n",
              "45210       0               0\n",
              "\n",
              "[45211 rows x 2 columns]"
            ]
          },
          "execution_count": 29,
          "metadata": {},
          "output_type": "execute_result"
        }
      ],
      "source": [
        "result= pd.DataFrame({'actual': y,\n",
        "                         'predicted_prob': cl.predict(x)})\n",
        "result"
      ]
    },
    {
      "cell_type": "code",
      "execution_count": 30,
      "metadata": {
        "colab": {
          "base_uri": "https://localhost:8080/"
        },
        "id": "jvr5JqtpJYgE",
        "outputId": "c32017e1-d66f-4f0f-d47f-b7bbf6e3d0ff"
      },
      "outputs": [
        {
          "name": "stdout",
          "output_type": "stream",
          "text": [
            "[[38943   979]\n",
            " [ 3458  1831]]\n"
          ]
        }
      ],
      "source": [
        "# Confusion Matrix for the model accuracy\n",
        "from sklearn.metrics import confusion_matrix\n",
        "c_m = confusion_matrix(y,predicted_data)\n",
        "print (c_m)"
      ]
    },
    {
      "cell_type": "code",
      "execution_count": 31,
      "metadata": {
        "colab": {
          "base_uri": "https://localhost:8080/"
        },
        "id": "fF3UDxAgJnH8",
        "outputId": "a215b690-ccfc-40e5-cd7e-e2d4aea9500e"
      },
      "outputs": [
        {
          "data": {
            "text/plain": [
              "88.30151954170445"
            ]
          },
          "execution_count": 31,
          "metadata": {},
          "output_type": "execute_result"
        }
      ],
      "source": [
        "((38943+979)/(38943+979+3458+1831))*100"
      ]
    },
    {
      "cell_type": "markdown",
      "metadata": {
        "id": "NH-RdW1IKITQ"
      },
      "source": [
        " **As we see accurancy of modle is 89% which is excellent**"
      ]
    },
    {
      "cell_type": "code",
      "execution_count": 32,
      "metadata": {
        "colab": {
          "base_uri": "https://localhost:8080/",
          "height": 296
        },
        "id": "6lv6F7_4KDIh",
        "outputId": "58e9abc9-27f8-486f-9543-1beda09befe1"
      },
      "outputs": [
        {
          "data": {
            "text/plain": [
              "Text(0, 0.5, 'True Positive Rate')"
            ]
          },
          "execution_count": 32,
          "metadata": {},
          "output_type": "execute_result"
        },
        {
          "data": {
            "image/png": "[encoded data removed]",
            "text/plain": [
              "<Figure size 432x288 with 1 Axes>"
            ]
          },
          "metadata": {
            "needs_background": "light"
          },
          "output_type": "display_data"
        }
      ],
      "source": [
        "# ROC Curve\n",
        "from sklearn.metrics import roc_curve\n",
        "from sklearn.metrics import roc_auc_score\n",
        "\n",
        "fpr, tpr, thresholds = roc_curve(y, cl.predict_proba (x)[:,1])\n",
        "\n",
        "auc = roc_auc_score(y, predicted_data)\n",
        "\n",
        "import matplotlib.pyplot as plt\n",
        "plt.plot(fpr, tpr, color='red', label='logit model ( area  = %0.2f)'%auc)\n",
        "plt.plot([0, 1], [0, 1], 'k--')\n",
        "plt.xlabel('False Positive Rate or [1 - True Negative Rate]')\n",
        "plt.ylabel('True Positive Rate')"
      ]
    },
    {
      "cell_type": "code",
      "execution_count": 33,
      "metadata": {
        "colab": {
          "base_uri": "https://localhost:8080/"
        },
        "id": "mVvx3b0WKnA3",
        "outputId": "df6c5df4-e13b-4f8a-82c7-b2db81a54c1f"
      },
      "outputs": [
        {
          "data": {
            "text/plain": [
              "0.6608336932950432"
            ]
          },
          "execution_count": 33,
          "metadata": {},
          "output_type": "execute_result"
        }
      ],
      "source": [
        "auc    #area undr curve"
      ]
    }
  ],
  "metadata": {
    "colab": {
      "name": "Logistic_regression-Assignment6",
      "provenance": []
    },
    "kernelspec": {
      "display_name": "Python 3",
      "name": "python3"
    },
    "language_info": {
      "codemirror_mode": {
        "name": "ipython",
        "version": 3
      },
      "file_extension": ".py",
      "mimetype": "text/x-python",
      "name": "python",
      "nbconvert_exporter": "python",
      "pygments_lexer": "ipython3",
      "version": "3.9.2"
    }
  },
  "nbformat": 4,
  "nbformat_minor": 0
}
